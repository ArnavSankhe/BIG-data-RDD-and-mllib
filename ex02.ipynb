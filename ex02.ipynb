{
 "cells": [
  {
   "cell_type": "markdown",
   "metadata": {
    "application/vnd.databricks.v1+cell": {
     "inputWidgets": {},
     "nuid": "15180379-7d35-4c9e-90c9-27a38c9e556f",
     "showTitle": false,
     "title": ""
    },
    "deletable": false,
    "editable": false,
    "nbgrader": {
     "cell_type": "markdown",
     "checksum": "a39d36b0e98a5a2b0bb7db44fbf0ba3d",
     "grade": false,
     "grade_id": "cell-34556ecbf3be9299",
     "locked": true,
     "schema_version": 3,
     "solution": false,
     "task": false
    }
   },
   "source": [
    "# Spark RDD\n",
    "## Lab assignment: Exercises with MapReduce on Apache Spark\n",
    "\n",
    "The aim of this notebook is to play with the RDD API of Apache Spark, aiming to solve the same four MapReduce exercises we did for the first lab. \n",
    "\n",
    "Note that in the previous lab, we solved the exercises at a conceptual level, tackling most exercises with **a single Map followed by a single Reduce function**. In Spark, we may be able to concatenate multiple `map` (or `flatMap`) functions to transform the input data into what we want, letting Spark optimize the whole job, which is going to be easier (and more efficient) to implement. Moreover, we will have a lot more functions available apart from Map and Reduce."
   ]
  },
  {
   "cell_type": "markdown",
   "metadata": {
    "application/vnd.databricks.v1+cell": {
     "inputWidgets": {},
     "nuid": "e17d33da-2e3b-4bf2-a1d8-3834fdd65d2e",
     "showTitle": false,
     "title": ""
    },
    "deletable": false,
    "editable": false,
    "nbgrader": {
     "cell_type": "markdown",
     "checksum": "d0940e388760ccf5e1c087185b666a04",
     "grade": false,
     "grade_id": "cell-41d8f418a3488649",
     "locked": true,
     "schema_version": 3,
     "solution": false,
     "task": false
    }
   },
   "source": [
    "## Submission and marking criteria\n",
    "\n",
    "You should complete this notebook and add your solutions to it. When you are done, rename your completed notebook as `ex02.ipynb`. \n",
    "\n",
    "Important notes:\n",
    "- The **group leader** must submit the `ex02.ipynb` file on Moodle.\n",
    "- **Each member of the group** must complete the peer review survey and their contribution statement using this [link](https://forms.office.com/Pages/ResponsePage.aspx?id=7qe9Z4D970GskTWEGCkKHjZupmfSK6JKqlvGZrucaoBUNlJETExBQU1EN1pST0ZQS0xEN1gyTjYyMSQlQCN0PWcu). **You can only submit this survey ONCE**.\n",
    "- This lab is marked out of 100 marks, and each exercise is worth 25 marks.\n",
    "- The marking will be focused on:\n",
    "    - Code that does solve the task correctly (10 marks).\n",
    "    - Efficiency of the solution (15 marks).\n",
    "    - Minor mistakes will deduct marks from each exercise.\n",
    "- **Submission deadline: 4th March 2022 at 3pm**"
   ]
  },
  {
   "cell_type": "markdown",
   "metadata": {
    "application/vnd.databricks.v1+cell": {
     "inputWidgets": {},
     "nuid": "93d36005-4e90-4433-bf4b-c7dabbc3a2cd",
     "showTitle": false,
     "title": ""
    },
    "deletable": false,
    "editable": false,
    "nbgrader": {
     "cell_type": "markdown",
     "checksum": "56d1dc68ea55559695c6609107f5061a",
     "grade": false,
     "grade_id": "cell-1525f00aaf6b41a3",
     "locked": true,
     "schema_version": 3,
     "solution": false,
     "task": false
    }
   },
   "source": [
    "## Set-up"
   ]
  },
  {
   "cell_type": "markdown",
   "metadata": {
    "application/vnd.databricks.v1+cell": {
     "inputWidgets": {},
     "nuid": "263cd4f6-c2fb-4e4e-b2a4-c4fa40539758",
     "showTitle": false,
     "title": ""
    },
    "deletable": false,
    "editable": false,
    "nbgrader": {
     "cell_type": "markdown",
     "checksum": "9cfb2fac2b6f9e548fb96bf41ddd5b54",
     "grade": false,
     "grade_id": "cell-f996e77963026a8e",
     "locked": true,
     "schema_version": 3,
     "solution": false,
     "task": false
    }
   },
   "source": [
    "The first thing we need to do to start working with Spark is to initialize the `SparkContext`. We will also import a few libraries we will use. *Remember if you are using Databricks that `spark` and `sc` are already available to you and don't need initializing.*"
   ]
  },
  {
   "cell_type": "code",
   "execution_count": 0,
   "metadata": {
    "application/vnd.databricks.v1+cell": {
     "inputWidgets": {},
     "nuid": "8a2935f4-752f-427b-8b3e-371fd370145c",
     "showTitle": false,
     "title": ""
    }
   },
   "outputs": [
    {
     "data": {
      "text/html": [
       "<style scoped>\n",
       "  .ansiout {\n",
       "    display: block;\n",
       "    unicode-bidi: embed;\n",
       "    white-space: pre-wrap;\n",
       "    word-wrap: break-word;\n",
       "    word-break: break-all;\n",
       "    font-family: \"Source Code Pro\", \"Menlo\", monospace;;\n",
       "    font-size: 13px;\n",
       "    color: #555;\n",
       "    margin-left: 4px;\n",
       "    line-height: 19px;\n",
       "  }\n",
       "</style>\n",
       "<div class=\"ansiout\"></div>"
      ]
     },
     "metadata": {
      "application/vnd.databricks.v1+output": {
       "addedWidgets": {},
       "arguments": {},
       "data": "<div class=\"ansiout\"></div>",
       "datasetInfos": [],
       "metadata": {},
       "removedWidgets": [],
       "type": "html"
      }
     },
     "output_type": "display_data"
    },
    {
     "data": {
      "text/html": [
       "<style scoped>\n",
       "  .ansiout {\n",
       "    display: block;\n",
       "    unicode-bidi: embed;\n",
       "    white-space: pre-wrap;\n",
       "    word-wrap: break-word;\n",
       "    word-break: break-all;\n",
       "    font-family: \"Source Code Pro\", \"Menlo\", monospace;;\n",
       "    font-size: 13px;\n",
       "    color: #555;\n",
       "    margin-left: 4px;\n",
       "    line-height: 19px;\n",
       "  }\n",
       "</style>\n",
       "<div class=\"ansiout\"><span class=\"ansi-red-fg\">---------------------------------------------------------------------------</span>\n",
       "<span class=\"ansi-red-fg\">Py4JError</span>                                 Traceback (most recent call last)\n",
       "<span class=\"ansi-green-fg\">&lt;command-1653303858158562&gt;</span> in <span class=\"ansi-cyan-fg\">&lt;module&gt;</span>\n",
       "<span class=\"ansi-green-intense-fg ansi-bold\">      1</span> <span class=\"ansi-green-fg\">from</span> pyspark <span class=\"ansi-green-fg\">import</span> SparkConf<span class=\"ansi-blue-fg\">,</span> SparkContext\n",
       "<span class=\"ansi-green-fg\">----&gt; 2</span><span class=\"ansi-red-fg\"> </span>conf <span class=\"ansi-blue-fg\">=</span> SparkConf<span class=\"ansi-blue-fg\">(</span><span class=\"ansi-blue-fg\">)</span><span class=\"ansi-blue-fg\">.</span>setMaster<span class=\"ansi-blue-fg\">(</span><span class=\"ansi-blue-fg\">&#34;local[*]&#34;</span><span class=\"ansi-blue-fg\">)</span><span class=\"ansi-blue-fg\">.</span>setAppName<span class=\"ansi-blue-fg\">(</span><span class=\"ansi-blue-fg\">&#34;RDD Lab&#34;</span><span class=\"ansi-blue-fg\">)</span>\n",
       "<span class=\"ansi-green-intense-fg ansi-bold\">      3</span> sc <span class=\"ansi-blue-fg\">=</span> SparkContext<span class=\"ansi-blue-fg\">(</span>conf <span class=\"ansi-blue-fg\">=</span> conf<span class=\"ansi-blue-fg\">)</span>\n",
       "\n",
       "<span class=\"ansi-green-fg\">/databricks/spark/python/pyspark/conf.py</span> in <span class=\"ansi-cyan-fg\">__init__</span><span class=\"ansi-blue-fg\">(self, loadDefaults, _jvm, _jconf)</span>\n",
       "<span class=\"ansi-green-intense-fg ansi-bold\">    120</span>             <span class=\"ansi-green-fg\">if</span> _jvm <span class=\"ansi-green-fg\">is</span> <span class=\"ansi-green-fg\">not</span> <span class=\"ansi-green-fg\">None</span><span class=\"ansi-blue-fg\">:</span>\n",
       "<span class=\"ansi-green-intense-fg ansi-bold\">    121</span>                 <span class=\"ansi-red-fg\"># JVM is created, so create self._jconf directly through JVM</span>\n",
       "<span class=\"ansi-green-fg\">--&gt; 122</span><span class=\"ansi-red-fg\">                 </span>self<span class=\"ansi-blue-fg\">.</span>_jconf <span class=\"ansi-blue-fg\">=</span> _jvm<span class=\"ansi-blue-fg\">.</span>SparkConf<span class=\"ansi-blue-fg\">(</span>loadDefaults<span class=\"ansi-blue-fg\">)</span>\n",
       "<span class=\"ansi-green-intense-fg ansi-bold\">    123</span>                 self<span class=\"ansi-blue-fg\">.</span>_conf <span class=\"ansi-blue-fg\">=</span> <span class=\"ansi-green-fg\">None</span>\n",
       "<span class=\"ansi-green-intense-fg ansi-bold\">    124</span>             <span class=\"ansi-green-fg\">else</span><span class=\"ansi-blue-fg\">:</span>\n",
       "\n",
       "<span class=\"ansi-green-fg\">/databricks/spark/python/lib/py4j-0.10.9.1-src.zip/py4j/java_gateway.py</span> in <span class=\"ansi-cyan-fg\">__call__</span><span class=\"ansi-blue-fg\">(self, *args)</span>\n",
       "<span class=\"ansi-green-intense-fg ansi-bold\">   1566</span> \n",
       "<span class=\"ansi-green-intense-fg ansi-bold\">   1567</span>         answer <span class=\"ansi-blue-fg\">=</span> self<span class=\"ansi-blue-fg\">.</span>_gateway_client<span class=\"ansi-blue-fg\">.</span>send_command<span class=\"ansi-blue-fg\">(</span>command<span class=\"ansi-blue-fg\">)</span>\n",
       "<span class=\"ansi-green-fg\">-&gt; 1568</span><span class=\"ansi-red-fg\">         return_value = get_return_value(\n",
       "</span><span class=\"ansi-green-intense-fg ansi-bold\">   1569</span>             answer, self._gateway_client, None, self._fqn)\n",
       "<span class=\"ansi-green-intense-fg ansi-bold\">   1570</span> \n",
       "\n",
       "<span class=\"ansi-green-fg\">/databricks/spark/python/pyspark/sql/utils.py</span> in <span class=\"ansi-cyan-fg\">deco</span><span class=\"ansi-blue-fg\">(*a, **kw)</span>\n",
       "<span class=\"ansi-green-intense-fg ansi-bold\">    115</span>     <span class=\"ansi-green-fg\">def</span> deco<span class=\"ansi-blue-fg\">(</span><span class=\"ansi-blue-fg\">*</span>a<span class=\"ansi-blue-fg\">,</span> <span class=\"ansi-blue-fg\">**</span>kw<span class=\"ansi-blue-fg\">)</span><span class=\"ansi-blue-fg\">:</span>\n",
       "<span class=\"ansi-green-intense-fg ansi-bold\">    116</span>         <span class=\"ansi-green-fg\">try</span><span class=\"ansi-blue-fg\">:</span>\n",
       "<span class=\"ansi-green-fg\">--&gt; 117</span><span class=\"ansi-red-fg\">             </span><span class=\"ansi-green-fg\">return</span> f<span class=\"ansi-blue-fg\">(</span><span class=\"ansi-blue-fg\">*</span>a<span class=\"ansi-blue-fg\">,</span> <span class=\"ansi-blue-fg\">**</span>kw<span class=\"ansi-blue-fg\">)</span>\n",
       "<span class=\"ansi-green-intense-fg ansi-bold\">    118</span>         <span class=\"ansi-green-fg\">except</span> py4j<span class=\"ansi-blue-fg\">.</span>protocol<span class=\"ansi-blue-fg\">.</span>Py4JJavaError <span class=\"ansi-green-fg\">as</span> e<span class=\"ansi-blue-fg\">:</span>\n",
       "<span class=\"ansi-green-intense-fg ansi-bold\">    119</span>             converted <span class=\"ansi-blue-fg\">=</span> convert_exception<span class=\"ansi-blue-fg\">(</span>e<span class=\"ansi-blue-fg\">.</span>java_exception<span class=\"ansi-blue-fg\">)</span>\n",
       "\n",
       "<span class=\"ansi-green-fg\">/databricks/spark/python/lib/py4j-0.10.9.1-src.zip/py4j/protocol.py</span> in <span class=\"ansi-cyan-fg\">get_return_value</span><span class=\"ansi-blue-fg\">(answer, gateway_client, target_id, name)</span>\n",
       "<span class=\"ansi-green-intense-fg ansi-bold\">    328</span>                     format(target_id, &#34;.&#34;, name), value)\n",
       "<span class=\"ansi-green-intense-fg ansi-bold\">    329</span>             <span class=\"ansi-green-fg\">else</span><span class=\"ansi-blue-fg\">:</span>\n",
       "<span class=\"ansi-green-fg\">--&gt; 330</span><span class=\"ansi-red-fg\">                 raise Py4JError(\n",
       "</span><span class=\"ansi-green-intense-fg ansi-bold\">    331</span>                     <span class=\"ansi-blue-fg\">&#34;An error occurred while calling {0}{1}{2}. Trace:\\n{3}\\n&#34;</span><span class=\"ansi-blue-fg\">.</span>\n",
       "<span class=\"ansi-green-intense-fg ansi-bold\">    332</span>                     format(target_id, &#34;.&#34;, name, value))\n",
       "\n",
       "<span class=\"ansi-red-fg\">Py4JError</span>: An error occurred while calling None.org.apache.spark.SparkConf. Trace:\n",
       "py4j.security.Py4JSecurityException: Constructor public org.apache.spark.SparkConf(boolean) is not whitelisted.\n",
       "\tat py4j.security.WhitelistingPy4JSecurityManager.checkConstructor(WhitelistingPy4JSecurityManager.java:451)\n",
       "\tat py4j.Gateway.invoke(Gateway.java:249)\n",
       "\tat py4j.commands.ConstructorCommand.invokeConstructor(ConstructorCommand.java:80)\n",
       "\tat py4j.commands.ConstructorCommand.execute(ConstructorCommand.java:69)\n",
       "\tat py4j.GatewayConnection.run(GatewayConnection.java:251)\n",
       "\tat java.lang.Thread.run(Thread.java:748)\n",
       "\n",
       "</div>"
      ]
     },
     "metadata": {
      "application/vnd.databricks.v1+output": {
       "arguments": {},
       "data": "<div class=\"ansiout\"><span class=\"ansi-red-fg\">---------------------------------------------------------------------------</span>\n<span class=\"ansi-red-fg\">Py4JError</span>                                 Traceback (most recent call last)\n<span class=\"ansi-green-fg\">&lt;command-1653303858158562&gt;</span> in <span class=\"ansi-cyan-fg\">&lt;module&gt;</span>\n<span class=\"ansi-green-intense-fg ansi-bold\">      1</span> <span class=\"ansi-green-fg\">from</span> pyspark <span class=\"ansi-green-fg\">import</span> SparkConf<span class=\"ansi-blue-fg\">,</span> SparkContext\n<span class=\"ansi-green-fg\">----&gt; 2</span><span class=\"ansi-red-fg\"> </span>conf <span class=\"ansi-blue-fg\">=</span> SparkConf<span class=\"ansi-blue-fg\">(</span><span class=\"ansi-blue-fg\">)</span><span class=\"ansi-blue-fg\">.</span>setMaster<span class=\"ansi-blue-fg\">(</span><span class=\"ansi-blue-fg\">&#34;local[*]&#34;</span><span class=\"ansi-blue-fg\">)</span><span class=\"ansi-blue-fg\">.</span>setAppName<span class=\"ansi-blue-fg\">(</span><span class=\"ansi-blue-fg\">&#34;RDD Lab&#34;</span><span class=\"ansi-blue-fg\">)</span>\n<span class=\"ansi-green-intense-fg ansi-bold\">      3</span> sc <span class=\"ansi-blue-fg\">=</span> SparkContext<span class=\"ansi-blue-fg\">(</span>conf <span class=\"ansi-blue-fg\">=</span> conf<span class=\"ansi-blue-fg\">)</span>\n\n<span class=\"ansi-green-fg\">/databricks/spark/python/pyspark/conf.py</span> in <span class=\"ansi-cyan-fg\">__init__</span><span class=\"ansi-blue-fg\">(self, loadDefaults, _jvm, _jconf)</span>\n<span class=\"ansi-green-intense-fg ansi-bold\">    120</span>             <span class=\"ansi-green-fg\">if</span> _jvm <span class=\"ansi-green-fg\">is</span> <span class=\"ansi-green-fg\">not</span> <span class=\"ansi-green-fg\">None</span><span class=\"ansi-blue-fg\">:</span>\n<span class=\"ansi-green-intense-fg ansi-bold\">    121</span>                 <span class=\"ansi-red-fg\"># JVM is created, so create self._jconf directly through JVM</span>\n<span class=\"ansi-green-fg\">--&gt; 122</span><span class=\"ansi-red-fg\">                 </span>self<span class=\"ansi-blue-fg\">.</span>_jconf <span class=\"ansi-blue-fg\">=</span> _jvm<span class=\"ansi-blue-fg\">.</span>SparkConf<span class=\"ansi-blue-fg\">(</span>loadDefaults<span class=\"ansi-blue-fg\">)</span>\n<span class=\"ansi-green-intense-fg ansi-bold\">    123</span>                 self<span class=\"ansi-blue-fg\">.</span>_conf <span class=\"ansi-blue-fg\">=</span> <span class=\"ansi-green-fg\">None</span>\n<span class=\"ansi-green-intense-fg ansi-bold\">    124</span>             <span class=\"ansi-green-fg\">else</span><span class=\"ansi-blue-fg\">:</span>\n\n<span class=\"ansi-green-fg\">/databricks/spark/python/lib/py4j-0.10.9.1-src.zip/py4j/java_gateway.py</span> in <span class=\"ansi-cyan-fg\">__call__</span><span class=\"ansi-blue-fg\">(self, *args)</span>\n<span class=\"ansi-green-intense-fg ansi-bold\">   1566</span> \n<span class=\"ansi-green-intense-fg ansi-bold\">   1567</span>         answer <span class=\"ansi-blue-fg\">=</span> self<span class=\"ansi-blue-fg\">.</span>_gateway_client<span class=\"ansi-blue-fg\">.</span>send_command<span class=\"ansi-blue-fg\">(</span>command<span class=\"ansi-blue-fg\">)</span>\n<span class=\"ansi-green-fg\">-&gt; 1568</span><span class=\"ansi-red-fg\">         return_value = get_return_value(\n</span><span class=\"ansi-green-intense-fg ansi-bold\">   1569</span>             answer, self._gateway_client, None, self._fqn)\n<span class=\"ansi-green-intense-fg ansi-bold\">   1570</span> \n\n<span class=\"ansi-green-fg\">/databricks/spark/python/pyspark/sql/utils.py</span> in <span class=\"ansi-cyan-fg\">deco</span><span class=\"ansi-blue-fg\">(*a, **kw)</span>\n<span class=\"ansi-green-intense-fg ansi-bold\">    115</span>     <span class=\"ansi-green-fg\">def</span> deco<span class=\"ansi-blue-fg\">(</span><span class=\"ansi-blue-fg\">*</span>a<span class=\"ansi-blue-fg\">,</span> <span class=\"ansi-blue-fg\">**</span>kw<span class=\"ansi-blue-fg\">)</span><span class=\"ansi-blue-fg\">:</span>\n<span class=\"ansi-green-intense-fg ansi-bold\">    116</span>         <span class=\"ansi-green-fg\">try</span><span class=\"ansi-blue-fg\">:</span>\n<span class=\"ansi-green-fg\">--&gt; 117</span><span class=\"ansi-red-fg\">             </span><span class=\"ansi-green-fg\">return</span> f<span class=\"ansi-blue-fg\">(</span><span class=\"ansi-blue-fg\">*</span>a<span class=\"ansi-blue-fg\">,</span> <span class=\"ansi-blue-fg\">**</span>kw<span class=\"ansi-blue-fg\">)</span>\n<span class=\"ansi-green-intense-fg ansi-bold\">    118</span>         <span class=\"ansi-green-fg\">except</span> py4j<span class=\"ansi-blue-fg\">.</span>protocol<span class=\"ansi-blue-fg\">.</span>Py4JJavaError <span class=\"ansi-green-fg\">as</span> e<span class=\"ansi-blue-fg\">:</span>\n<span class=\"ansi-green-intense-fg ansi-bold\">    119</span>             converted <span class=\"ansi-blue-fg\">=</span> convert_exception<span class=\"ansi-blue-fg\">(</span>e<span class=\"ansi-blue-fg\">.</span>java_exception<span class=\"ansi-blue-fg\">)</span>\n\n<span class=\"ansi-green-fg\">/databricks/spark/python/lib/py4j-0.10.9.1-src.zip/py4j/protocol.py</span> in <span class=\"ansi-cyan-fg\">get_return_value</span><span class=\"ansi-blue-fg\">(answer, gateway_client, target_id, name)</span>\n<span class=\"ansi-green-intense-fg ansi-bold\">    328</span>                     format(target_id, &#34;.&#34;, name), value)\n<span class=\"ansi-green-intense-fg ansi-bold\">    329</span>             <span class=\"ansi-green-fg\">else</span><span class=\"ansi-blue-fg\">:</span>\n<span class=\"ansi-green-fg\">--&gt; 330</span><span class=\"ansi-red-fg\">                 raise Py4JError(\n</span><span class=\"ansi-green-intense-fg ansi-bold\">    331</span>                     <span class=\"ansi-blue-fg\">&#34;An error occurred while calling {0}{1}{2}. Trace:\\n{3}\\n&#34;</span><span class=\"ansi-blue-fg\">.</span>\n<span class=\"ansi-green-intense-fg ansi-bold\">    332</span>                     format(target_id, &#34;.&#34;, name, value))\n\n<span class=\"ansi-red-fg\">Py4JError</span>: An error occurred while calling None.org.apache.spark.SparkConf. Trace:\npy4j.security.Py4JSecurityException: Constructor public org.apache.spark.SparkConf(boolean) is not whitelisted.\n\tat py4j.security.WhitelistingPy4JSecurityManager.checkConstructor(WhitelistingPy4JSecurityManager.java:451)\n\tat py4j.Gateway.invoke(Gateway.java:249)\n\tat py4j.commands.ConstructorCommand.invokeConstructor(ConstructorCommand.java:80)\n\tat py4j.commands.ConstructorCommand.execute(ConstructorCommand.java:69)\n\tat py4j.GatewayConnection.run(GatewayConnection.java:251)\n\tat java.lang.Thread.run(Thread.java:748)\n\n</div>",
       "errorSummary": "py4j.security.Py4JSecurityException: Constructor public org.apache.spark.SparkConf(boolean) is not whitelisted.",
       "errorTraceType": "html",
       "metadata": {},
       "type": "ipynbError"
      }
     },
     "output_type": "display_data"
    }
   ],
   "source": [
    "from pyspark import SparkConf, SparkContext\n",
    "conf = SparkConf().setMaster(\"local[*]\").setAppName(\"RDD Lab\")\n",
    "sc = SparkContext(conf = conf)"
   ]
  },
  {
   "cell_type": "code",
   "execution_count": 0,
   "metadata": {
    "application/vnd.databricks.v1+cell": {
     "inputWidgets": {},
     "nuid": "ee99ee4d-cdce-43c3-b92a-3d833f1b8986",
     "showTitle": false,
     "title": ""
    }
   },
   "outputs": [
    {
     "data": {
      "text/html": [
       "<style scoped>\n",
       "  .ansiout {\n",
       "    display: block;\n",
       "    unicode-bidi: embed;\n",
       "    white-space: pre-wrap;\n",
       "    word-wrap: break-word;\n",
       "    word-break: break-all;\n",
       "    font-family: \"Source Code Pro\", \"Menlo\", monospace;;\n",
       "    font-size: 13px;\n",
       "    color: #555;\n",
       "    margin-left: 4px;\n",
       "    line-height: 19px;\n",
       "  }\n",
       "</style>\n",
       "<div class=\"ansiout\"></div>"
      ]
     },
     "metadata": {
      "application/vnd.databricks.v1+output": {
       "addedWidgets": {},
       "arguments": {},
       "data": "<div class=\"ansiout\"></div>",
       "datasetInfos": [],
       "metadata": {},
       "removedWidgets": [],
       "type": "html"
      }
     },
     "output_type": "display_data"
    }
   ],
   "source": [
    "%matplotlib inline \n",
    "import matplotlib.pyplot as plt\n",
    "import numpy as np\n",
    "\n",
    "# Helper function to test the correctness of the solutions\n",
    "def test(var, val, msg=\"\"):\n",
    "    print(\"1 test passed.\") if var == val else print(\"1 test failed. \" + msg)"
   ]
  },
  {
   "cell_type": "markdown",
   "metadata": {
    "application/vnd.databricks.v1+cell": {
     "inputWidgets": {},
     "nuid": "6ce241ff-05ba-44c0-a6af-a7ba54268554",
     "showTitle": false,
     "title": ""
    },
    "deletable": false,
    "editable": false,
    "nbgrader": {
     "cell_type": "markdown",
     "checksum": "6c9abac50c3c0a52dd3db1a33383dbc4",
     "grade": false,
     "grade_id": "cell-zzz8f418a3488649",
     "locked": true,
     "schema_version": 3,
     "solution": false
    }
   },
   "source": [
    "# Useful tips for programming exercises\n",
    "\n",
    "When programming in Spark with Jupyter Notebooks it is useful to make use of its interactivity. That is, instead of addressing the exercise as a whole, try to divide it into smaller pieces and program it incrementally, checking that every step is being performed as expected. \n",
    "\n",
    "To illustrate this, we are going to implement the Word Count program step by step, and you will later be asked to put everything together as part of Exercise 0. \n",
    "\n",
    "We already know that to count words we need to first divide each sentence (string) of the RDD into words. But before that, we should read the data from a file. We can implement a simple function that takes the filename (and its path) as input, and creates an RDD with it. To check that this works, we could use a `take` action right after loading the file and see the first 10 lines of the file. Let's do this."
   ]
  },
  {
   "cell_type": "code",
   "execution_count": 0,
   "metadata": {
    "application/vnd.databricks.v1+cell": {
     "inputWidgets": {},
     "nuid": "b9881df0-d4e9-40c8-a300-ec9c491ee762",
     "showTitle": false,
     "title": ""
    }
   },
   "outputs": [
    {
     "data": {
      "text/html": [
       "<style scoped>\n",
       "  .ansiout {\n",
       "    display: block;\n",
       "    unicode-bidi: embed;\n",
       "    white-space: pre-wrap;\n",
       "    word-wrap: break-word;\n",
       "    word-break: break-all;\n",
       "    font-family: \"Source Code Pro\", \"Menlo\", monospace;;\n",
       "    font-size: 13px;\n",
       "    color: #555;\n",
       "    margin-left: 4px;\n",
       "    line-height: 19px;\n",
       "  }\n",
       "</style>\n",
       "<div class=\"ansiout\"></div>"
      ]
     },
     "metadata": {
      "application/vnd.databricks.v1+output": {
       "addedWidgets": {},
       "arguments": {},
       "data": "<div class=\"ansiout\"></div>",
       "datasetInfos": [],
       "metadata": {},
       "removedWidgets": [],
       "type": "html"
      }
     },
     "output_type": "display_data"
    }
   ],
   "source": [
    "quixote_path = \"mnt/nogroup/data/quixote.txt\"\n",
    "friend_path = \"mnt/nogroup/data/friends.txt\""
   ]
  },
  {
   "cell_type": "code",
   "execution_count": 0,
   "metadata": {
    "application/vnd.databricks.v1+cell": {
     "inputWidgets": {},
     "nuid": "6f54dd8c-ce59-4f5d-8ebb-a386a9a7d871",
     "showTitle": false,
     "title": ""
    }
   },
   "outputs": [
    {
     "data": {
      "text/html": [
       "<style scoped>\n",
       "  .ansiout {\n",
       "    display: block;\n",
       "    unicode-bidi: embed;\n",
       "    white-space: pre-wrap;\n",
       "    word-wrap: break-word;\n",
       "    word-break: break-all;\n",
       "    font-family: \"Source Code Pro\", \"Menlo\", monospace;;\n",
       "    font-size: 13px;\n",
       "    color: #555;\n",
       "    margin-left: 4px;\n",
       "    line-height: 19px;\n",
       "  }\n",
       "</style>\n",
       "<div class=\"ansiout\">Out[32]: [&#39;&#39;,\n",
       " &#39;The Project Gutenberg EBook of The History of Don Quixote by Miguel de Cervantes&#39;,\n",
       " &#39;&#39;,\n",
       " &#39;This eBook is for the use of anyone anywhere at no cost and with&#39;,\n",
       " &#39;almost no restrictions whatsoever.  You may copy it, give it away or&#39;,\n",
       " &#39;re-use it under the terms of the Project Gutenberg License included&#39;,\n",
       " &#39;with this eBook or online at www.gutenberg.org&#39;,\n",
       " &#39;&#39;,\n",
       " &#39;&#39;,\n",
       " &#39;Title: The History of Don Quixote&#39;]</div>"
      ]
     },
     "metadata": {
      "application/vnd.databricks.v1+output": {
       "addedWidgets": {},
       "arguments": {},
       "data": "<div class=\"ansiout\">Out[32]: [&#39;&#39;,\n &#39;The Project Gutenberg EBook of The History of Don Quixote by Miguel de Cervantes&#39;,\n &#39;&#39;,\n &#39;This eBook is for the use of anyone anywhere at no cost and with&#39;,\n &#39;almost no restrictions whatsoever.  You may copy it, give it away or&#39;,\n &#39;re-use it under the terms of the Project Gutenberg License included&#39;,\n &#39;with this eBook or online at www.gutenberg.org&#39;,\n &#39;&#39;,\n &#39;&#39;,\n &#39;Title: The History of Don Quixote&#39;]</div>",
       "datasetInfos": [],
       "metadata": {},
       "removedWidgets": [],
       "type": "html"
      }
     },
     "output_type": "display_data"
    }
   ],
   "source": [
    "# First step, check the reading\n",
    "def word_count(file_path):\n",
    "    lines = sc.textFile(file_path)\n",
    "    \n",
    "    output = lines.take(10) # trigger the reading of the file \n",
    "    return output\n",
    "    \n",
    "# Test the function with quixote.txt file\n",
    "word_count(quixote_path)"
   ]
  },
  {
   "cell_type": "markdown",
   "metadata": {
    "application/vnd.databricks.v1+cell": {
     "inputWidgets": {},
     "nuid": "2c9f8725-3418-4a62-ab8d-85c91bb6b679",
     "showTitle": false,
     "title": ""
    },
    "deletable": false,
    "editable": false,
    "nbgrader": {
     "cell_type": "markdown",
     "checksum": "685704f0344b5235862bfd738a48c9ab",
     "grade": false,
     "grade_id": "cell-0ae9fe835f50a10c",
     "locked": true,
     "schema_version": 3,
     "solution": false,
     "task": false
    }
   },
   "source": [
    "Doing this allows us to see the first 10 elements from the RDD, so we can understand that each element is a string containing a line of the book.\n",
    "\n",
    "The next step is to divide those lines into words using the `split` function for Strings from Python."
   ]
  },
  {
   "cell_type": "code",
   "execution_count": 0,
   "metadata": {
    "application/vnd.databricks.v1+cell": {
     "inputWidgets": {},
     "nuid": "2bc6a854-d0d5-4bb8-830f-7e5a910b7374",
     "showTitle": false,
     "title": ""
    }
   },
   "outputs": [
    {
     "data": {
      "text/html": [
       "<style scoped>\n",
       "  .ansiout {\n",
       "    display: block;\n",
       "    unicode-bidi: embed;\n",
       "    white-space: pre-wrap;\n",
       "    word-wrap: break-word;\n",
       "    word-break: break-all;\n",
       "    font-family: \"Source Code Pro\", \"Menlo\", monospace;;\n",
       "    font-size: 13px;\n",
       "    color: #555;\n",
       "    margin-left: 4px;\n",
       "    line-height: 19px;\n",
       "  }\n",
       "</style>\n",
       "<div class=\"ansiout\">Out[33]: [[&#39;&#39;],\n",
       " [&#39;The&#39;,\n",
       "  &#39;Project&#39;,\n",
       "  &#39;Gutenberg&#39;,\n",
       "  &#39;EBook&#39;,\n",
       "  &#39;of&#39;,\n",
       "  &#39;The&#39;,\n",
       "  &#39;History&#39;,\n",
       "  &#39;of&#39;,\n",
       "  &#39;Don&#39;,\n",
       "  &#39;Quixote&#39;,\n",
       "  &#39;by&#39;,\n",
       "  &#39;Miguel&#39;,\n",
       "  &#39;de&#39;,\n",
       "  &#39;Cervantes&#39;],\n",
       " [&#39;&#39;],\n",
       " [&#39;This&#39;,\n",
       "  &#39;eBook&#39;,\n",
       "  &#39;is&#39;,\n",
       "  &#39;for&#39;,\n",
       "  &#39;the&#39;,\n",
       "  &#39;use&#39;,\n",
       "  &#39;of&#39;,\n",
       "  &#39;anyone&#39;,\n",
       "  &#39;anywhere&#39;,\n",
       "  &#39;at&#39;,\n",
       "  &#39;no&#39;,\n",
       "  &#39;cost&#39;,\n",
       "  &#39;and&#39;,\n",
       "  &#39;with&#39;],\n",
       " [&#39;almost&#39;,\n",
       "  &#39;no&#39;,\n",
       "  &#39;restrictions&#39;,\n",
       "  &#39;whatsoever.&#39;,\n",
       "  &#39;&#39;,\n",
       "  &#39;You&#39;,\n",
       "  &#39;may&#39;,\n",
       "  &#39;copy&#39;,\n",
       "  &#39;it,&#39;,\n",
       "  &#39;give&#39;,\n",
       "  &#39;it&#39;,\n",
       "  &#39;away&#39;,\n",
       "  &#39;or&#39;],\n",
       " [&#39;re-use&#39;,\n",
       "  &#39;it&#39;,\n",
       "  &#39;under&#39;,\n",
       "  &#39;the&#39;,\n",
       "  &#39;terms&#39;,\n",
       "  &#39;of&#39;,\n",
       "  &#39;the&#39;,\n",
       "  &#39;Project&#39;,\n",
       "  &#39;Gutenberg&#39;,\n",
       "  &#39;License&#39;,\n",
       "  &#39;included&#39;],\n",
       " [&#39;with&#39;, &#39;this&#39;, &#39;eBook&#39;, &#39;or&#39;, &#39;online&#39;, &#39;at&#39;, &#39;www.gutenberg.org&#39;],\n",
       " [&#39;&#39;],\n",
       " [&#39;&#39;],\n",
       " [&#39;Title:&#39;, &#39;The&#39;, &#39;History&#39;, &#39;of&#39;, &#39;Don&#39;, &#39;Quixote&#39;]]</div>"
      ]
     },
     "metadata": {
      "application/vnd.databricks.v1+output": {
       "addedWidgets": {},
       "arguments": {},
       "data": "<div class=\"ansiout\">Out[33]: [[&#39;&#39;],\n [&#39;The&#39;,\n  &#39;Project&#39;,\n  &#39;Gutenberg&#39;,\n  &#39;EBook&#39;,\n  &#39;of&#39;,\n  &#39;The&#39;,\n  &#39;History&#39;,\n  &#39;of&#39;,\n  &#39;Don&#39;,\n  &#39;Quixote&#39;,\n  &#39;by&#39;,\n  &#39;Miguel&#39;,\n  &#39;de&#39;,\n  &#39;Cervantes&#39;],\n [&#39;&#39;],\n [&#39;This&#39;,\n  &#39;eBook&#39;,\n  &#39;is&#39;,\n  &#39;for&#39;,\n  &#39;the&#39;,\n  &#39;use&#39;,\n  &#39;of&#39;,\n  &#39;anyone&#39;,\n  &#39;anywhere&#39;,\n  &#39;at&#39;,\n  &#39;no&#39;,\n  &#39;cost&#39;,\n  &#39;and&#39;,\n  &#39;with&#39;],\n [&#39;almost&#39;,\n  &#39;no&#39;,\n  &#39;restrictions&#39;,\n  &#39;whatsoever.&#39;,\n  &#39;&#39;,\n  &#39;You&#39;,\n  &#39;may&#39;,\n  &#39;copy&#39;,\n  &#39;it,&#39;,\n  &#39;give&#39;,\n  &#39;it&#39;,\n  &#39;away&#39;,\n  &#39;or&#39;],\n [&#39;re-use&#39;,\n  &#39;it&#39;,\n  &#39;under&#39;,\n  &#39;the&#39;,\n  &#39;terms&#39;,\n  &#39;of&#39;,\n  &#39;the&#39;,\n  &#39;Project&#39;,\n  &#39;Gutenberg&#39;,\n  &#39;License&#39;,\n  &#39;included&#39;],\n [&#39;with&#39;, &#39;this&#39;, &#39;eBook&#39;, &#39;or&#39;, &#39;online&#39;, &#39;at&#39;, &#39;www.gutenberg.org&#39;],\n [&#39;&#39;],\n [&#39;&#39;],\n [&#39;Title:&#39;, &#39;The&#39;, &#39;History&#39;, &#39;of&#39;, &#39;Don&#39;, &#39;Quixote&#39;]]</div>",
       "datasetInfos": [],
       "metadata": {},
       "removedWidgets": [],
       "type": "html"
      }
     },
     "output_type": "display_data"
    }
   ],
   "source": [
    "# Next, we check the split\n",
    "def word_count(file_path):\n",
    "    lines = sc.textFile(file_path)\n",
    "    words = lines.map(lambda line: line.split(' '))\n",
    "    \n",
    "    output = words.take(10)\n",
    "    return output\n",
    "    \n",
    "# Test the function with quixote.txt file\n",
    "word_count(quixote_path)\n"
   ]
  },
  {
   "cell_type": "markdown",
   "metadata": {
    "application/vnd.databricks.v1+cell": {
     "inputWidgets": {},
     "nuid": "ffab3d0b-7425-4be4-a635-3b2a0143cfa2",
     "showTitle": false,
     "title": ""
    },
    "deletable": false,
    "editable": false,
    "nbgrader": {
     "cell_type": "markdown",
     "checksum": "36381e5bbe0583381f773d88ce950df3",
     "grade": false,
     "grade_id": "cell-502zzzeb035b95bd",
     "locked": true,
     "schema_version": 3,
     "solution": false,
     "task": false
    }
   },
   "source": [
    "Well, in this case, we get a new RDD composed of lists. Is this what we need? Not really, we want an RDD of words. So looking at that output we can see that we should change something. You may recall that `split` returns a list of words that is split by the character given as argument. Hence, if we just want the words in the RDD we must use `flatMap` instead of `map`."
   ]
  },
  {
   "cell_type": "code",
   "execution_count": 0,
   "metadata": {
    "application/vnd.databricks.v1+cell": {
     "inputWidgets": {},
     "nuid": "e91baa27-4d64-4eb1-9ab2-356368387f44",
     "showTitle": false,
     "title": ""
    }
   },
   "outputs": [
    {
     "data": {
      "text/html": [
       "<style scoped>\n",
       "  .ansiout {\n",
       "    display: block;\n",
       "    unicode-bidi: embed;\n",
       "    white-space: pre-wrap;\n",
       "    word-wrap: break-word;\n",
       "    word-break: break-all;\n",
       "    font-family: \"Source Code Pro\", \"Menlo\", monospace;;\n",
       "    font-size: 13px;\n",
       "    color: #555;\n",
       "    margin-left: 4px;\n",
       "    line-height: 19px;\n",
       "  }\n",
       "</style>\n",
       "<div class=\"ansiout\">Out[34]: [&#39;&#39;,\n",
       " &#39;The&#39;,\n",
       " &#39;Project&#39;,\n",
       " &#39;Gutenberg&#39;,\n",
       " &#39;EBook&#39;,\n",
       " &#39;of&#39;,\n",
       " &#39;The&#39;,\n",
       " &#39;History&#39;,\n",
       " &#39;of&#39;,\n",
       " &#39;Don&#39;]</div>"
      ]
     },
     "metadata": {
      "application/vnd.databricks.v1+output": {
       "addedWidgets": {},
       "arguments": {},
       "data": "<div class=\"ansiout\">Out[34]: [&#39;&#39;,\n &#39;The&#39;,\n &#39;Project&#39;,\n &#39;Gutenberg&#39;,\n &#39;EBook&#39;,\n &#39;of&#39;,\n &#39;The&#39;,\n &#39;History&#39;,\n &#39;of&#39;,\n &#39;Don&#39;]</div>",
       "datasetInfos": [],
       "metadata": {},
       "removedWidgets": [],
       "type": "html"
      }
     },
     "output_type": "display_data"
    }
   ],
   "source": [
    "# Next, we check the split\n",
    "def word_count(file_path):\n",
    "    lines = sc.textFile(file_path)\n",
    "    words = lines.flatMap(lambda line: line.split(' '))\n",
    "    \n",
    "    output = words.take(10)\n",
    "    return output\n",
    "    \n",
    "# Test the function with quixote.txt file\n",
    "word_count(quixote_path)"
   ]
  },
  {
   "cell_type": "markdown",
   "metadata": {
    "application/vnd.databricks.v1+cell": {
     "inputWidgets": {},
     "nuid": "e55d0a55-8eb9-4c72-b75d-f5f5e46b728d",
     "showTitle": false,
     "title": ""
    },
    "deletable": false,
    "editable": false,
    "nbgrader": {
     "cell_type": "markdown",
     "checksum": "5facafafc2fc7cb3f2d62193619a1de6",
     "grade": false,
     "grade_id": "cell-db7d3fzzz86352",
     "locked": true,
     "schema_version": 3,
     "solution": false,
     "task": false
    }
   },
   "source": [
    "Brilliant! Much better now. What is left to finish this? We will ask you to think about it in the next section.\n",
    "\n",
    "In summary, all exercises can usually be implemented incrementally, which eases finding bugs and problems. If we tried to program the whole Word Count and tested it at the end, we might get an error and could spend much more time trying to correct it and looking to understand where the error comes from. We suggest you test each step of the way to ensure that you are getting what you expect."
   ]
  },
  {
   "cell_type": "markdown",
   "metadata": {
    "application/vnd.databricks.v1+cell": {
     "inputWidgets": {},
     "nuid": "cb8daa49-34a0-42b9-8a25-7076944885df",
     "showTitle": false,
     "title": ""
    },
    "deletable": false,
    "editable": false,
    "nbgrader": {
     "cell_type": "markdown",
     "checksum": "b41a7223a6b9e713853366b41c439c94",
     "grade": false,
     "grade_id": "cell-8cdb21azzzf3d35e",
     "locked": true,
     "schema_version": 3,
     "solution": false,
     "task": false
    }
   },
   "source": [
    "## Exercise 0: Word Count with Spark\n",
    "\n",
    "Let's now implement the complete Word Count program in Spark, considering a few additional things we may need when working with real data. Thus, you're asked to implement a `word_count(file_path)` function that counts the number of words in a document or a number of text documents provided in the input path. The function `word_count(file_path)` should give as an output the 10 most repeated words in descending order of repetitions.\n",
    "\n",
    "**Input:** The path to a text file\n",
    "\n",
    "**Output:** (word, count) - only the 10 words with the highest frequency!\n",
    "\n",
    "Recommended steps:\n",
    "1. Read the file or files. Each line should be an element of the RDD. (*transformation*)\n",
    "2. Split the lines into words. (*transformation*)\n",
    "3. Filter empty words (`''`) resulting from previous steps. (*transformation*)\n",
    "4. Count the number of occurrences of each word. (*transformation*)\n",
    "5. Return to the driver program the 10 most repeated words. (*action*)\n",
    "\n",
    "                                                                                                       [0 marks]"
   ]
  },
  {
   "cell_type": "code",
   "execution_count": 0,
   "metadata": {
    "application/vnd.databricks.v1+cell": {
     "inputWidgets": {},
     "nuid": "1b1da63d-8a9d-4c87-9470-c5a7eb7d4705",
     "showTitle": false,
     "title": ""
    },
    "deletable": false,
    "nbgrader": {
     "cell_type": "code",
     "checksum": "bcfd60a458abf57df4850989c8015038",
     "grade": false,
     "grade_id": "cell-5b42f769d37azzz2",
     "locked": false,
     "schema_version": 3,
     "solution": true
    }
   },
   "outputs": [
    {
     "data": {
      "text/html": [
       "<style scoped>\n",
       "  .ansiout {\n",
       "    display: block;\n",
       "    unicode-bidi: embed;\n",
       "    white-space: pre-wrap;\n",
       "    word-wrap: break-word;\n",
       "    word-break: break-all;\n",
       "    font-family: \"Source Code Pro\", \"Menlo\", monospace;;\n",
       "    font-size: 13px;\n",
       "    color: #555;\n",
       "    margin-left: 4px;\n",
       "    line-height: 19px;\n",
       "  }\n",
       "</style>\n",
       "<div class=\"ansiout\">Out[35]: [(&#39;the&#39;, 20923),\n",
       " (&#39;and&#39;, 16606),\n",
       " (&#39;to&#39;, 13492),\n",
       " (&#39;of&#39;, 12866),\n",
       " (&#39;that&#39;, 7164),\n",
       " (&#39;a&#39;, 7003),\n",
       " (&#39;in&#39;, 6860),\n",
       " (&#39;I&#39;, 5756),\n",
       " (&#39;he&#39;, 5640),\n",
       " (&#39;for&#39;, 4534)]</div>"
      ]
     },
     "metadata": {
      "application/vnd.databricks.v1+output": {
       "addedWidgets": {},
       "arguments": {},
       "data": "<div class=\"ansiout\">Out[35]: [(&#39;the&#39;, 20923),\n (&#39;and&#39;, 16606),\n (&#39;to&#39;, 13492),\n (&#39;of&#39;, 12866),\n (&#39;that&#39;, 7164),\n (&#39;a&#39;, 7003),\n (&#39;in&#39;, 6860),\n (&#39;I&#39;, 5756),\n (&#39;he&#39;, 5640),\n (&#39;for&#39;, 4534)]</div>",
       "datasetInfos": [],
       "metadata": {},
       "removedWidgets": [],
       "type": "html"
      }
     },
     "output_type": "display_data"
    }
   ],
   "source": [
    "def word_count(file_path):\n",
    "    lines = sc.textFile(file_path)\n",
    "    words = lines.flatMap(lambda line: line.split(' '))\\\n",
    "            .filter(lambda word: word)\\\n",
    "            .map(lambda word: (word,1))\\\n",
    "            .reduceByKey(lambda a, b: a + b) \n",
    "#     words = words.sortBy(lambda a: a[1],False)\n",
    "\n",
    "#     output = words.take(10)\n",
    "    output = words.takeOrdered(10,lambda a: -a[1])\n",
    "    return output\n",
    "    \n",
    "# Test the function with quixote.txt file\n",
    "word_count(quixote_path)"
   ]
  },
  {
   "cell_type": "markdown",
   "metadata": {
    "application/vnd.databricks.v1+cell": {
     "inputWidgets": {},
     "nuid": "3c52a3fa-16e5-4a63-94a1-e33eea60ad89",
     "showTitle": false,
     "title": ""
    },
    "deletable": false,
    "editable": false,
    "nbgrader": {
     "cell_type": "markdown",
     "checksum": "c54636a09e3371a5eb56f43e50bd55f5",
     "grade": false,
     "grade_id": "cell-8c19ebc1352dbf17",
     "locked": true,
     "schema_version": 3,
     "solution": false,
     "task": false
    }
   },
   "source": [
    "The program should pass the following test:"
   ]
  },
  {
   "cell_type": "code",
   "execution_count": 0,
   "metadata": {
    "application/vnd.databricks.v1+cell": {
     "inputWidgets": {},
     "nuid": "3641cd96-ecda-4585-8d31-01bbaa1b8c56",
     "showTitle": false,
     "title": ""
    },
    "deletable": false,
    "editable": false,
    "nbgrader": {
     "cell_type": "code",
     "checksum": "ed47f49915b742fb5b4322a172e5f554",
     "grade": true,
     "grade_id": "cell-ef044zzz0a494e9",
     "locked": true,
     "points": 5,
     "schema_version": 3,
     "solution": false
    }
   },
   "outputs": [
    {
     "data": {
      "text/html": [
       "<style scoped>\n",
       "  .ansiout {\n",
       "    display: block;\n",
       "    unicode-bidi: embed;\n",
       "    white-space: pre-wrap;\n",
       "    word-wrap: break-word;\n",
       "    word-break: break-all;\n",
       "    font-family: \"Source Code Pro\", \"Menlo\", monospace;;\n",
       "    font-size: 13px;\n",
       "    color: #555;\n",
       "    margin-left: 4px;\n",
       "    line-height: 19px;\n",
       "  }\n",
       "</style>\n",
       "<div class=\"ansiout\">[(&#39;the&#39;, 20923), (&#39;and&#39;, 16606), (&#39;to&#39;, 13492), (&#39;of&#39;, 12866), (&#39;that&#39;, 7164), (&#39;a&#39;, 7003), (&#39;in&#39;, 6860), (&#39;I&#39;, 5756), (&#39;he&#39;, 5640), (&#39;for&#39;, 4534)]\n",
       "1 test passed.\n",
       "</div>"
      ]
     },
     "metadata": {
      "application/vnd.databricks.v1+output": {
       "addedWidgets": {},
       "arguments": {},
       "data": "<div class=\"ansiout\">[(&#39;the&#39;, 20923), (&#39;and&#39;, 16606), (&#39;to&#39;, 13492), (&#39;of&#39;, 12866), (&#39;that&#39;, 7164), (&#39;a&#39;, 7003), (&#39;in&#39;, 6860), (&#39;I&#39;, 5756), (&#39;he&#39;, 5640), (&#39;for&#39;, 4534)]\n1 test passed.\n</div>",
       "datasetInfos": [],
       "metadata": {},
       "removedWidgets": [],
       "type": "html"
      }
     },
     "output_type": "display_data"
    }
   ],
   "source": [
    "top10_quixote = word_count(quixote_path)\n",
    "print(top10_quixote)\n",
    "test(top10_quixote, [('the', 20923), ('and', 16606), ('to', 13492), ('of', 12866), \n",
    "                                  ('that', 7164), ('a', 7003), ('in', 6860), ('I', 5756), ('he', 5640), \n",
    "                                  ('for', 4534)], \"Try again!\")"
   ]
  },
  {
   "cell_type": "markdown",
   "metadata": {
    "application/vnd.databricks.v1+cell": {
     "inputWidgets": {},
     "nuid": "372ce1f6-718d-48fd-aab4-6808c372949a",
     "showTitle": false,
     "title": ""
    },
    "deletable": false,
    "editable": false,
    "nbgrader": {
     "cell_type": "markdown",
     "checksum": "a20f918c3c74bc9247a6a3019178cd47",
     "grade": false,
     "grade_id": "cell-11511dda4bdazzz2",
     "locked": true,
     "schema_version": 3,
     "solution": false,
     "task": false
    }
   },
   "source": [
    "## Exercise 1. Histogram of word repetition\n",
    "\n",
    "Provide a histogram of word repetitions, that is, the number of words that are repeated X times:\n",
    "\n",
    "* 1 time - 3 words\n",
    "* 2 times - 10 words\n",
    "* 3 times, 20 words\n",
    "...\n",
    "\n",
    "You are asked to implement a `histogram_reps(file_path)` function in Spark that **must not** use the function `word_count(file_path)`, but it could use part of the code you did before. All the processing must be done with RDDs, and there should be a single `collect()` at the end to return a list. The list must be ordered by the number of times. \n",
    "\n",
    "**Input**: The path to a text file\n",
    "\n",
    "**Output**: (X times, number of words)\n",
    "\n",
    "                                                                                                       [25 marks]"
   ]
  },
  {
   "cell_type": "code",
   "execution_count": 0,
   "metadata": {
    "application/vnd.databricks.v1+cell": {
     "inputWidgets": {},
     "nuid": "4fa492be-0b44-4ea6-b895-ec611bd2c6e5",
     "showTitle": false,
     "title": ""
    },
    "deletable": false,
    "nbgrader": {
     "cell_type": "code",
     "checksum": "540671cc612e521f4dcc0d75ae00eca3",
     "grade": false,
     "grade_id": "cell-f6f39xxx672c31b0",
     "locked": false,
     "schema_version": 3,
     "solution": true
    }
   },
   "outputs": [
    {
     "data": {
      "text/html": [
       "<style scoped>\n",
       "  .ansiout {\n",
       "    display: block;\n",
       "    unicode-bidi: embed;\n",
       "    white-space: pre-wrap;\n",
       "    word-wrap: break-word;\n",
       "    word-break: break-all;\n",
       "    font-family: \"Source Code Pro\", \"Menlo\", monospace;;\n",
       "    font-size: 13px;\n",
       "    color: #555;\n",
       "    margin-left: 4px;\n",
       "    line-height: 19px;\n",
       "  }\n",
       "</style>\n",
       "<div class=\"ansiout\">Out[37]: [(1, 17817),\n",
       " (2, 5146),\n",
       " (3, 2291),\n",
       " (4, 1520),\n",
       " (5, 998),\n",
       " (6, 737),\n",
       " (7, 589),\n",
       " (8, 439),\n",
       " (9, 333),\n",
       " (10, 288),\n",
       " (11, 227),\n",
       " (12, 216),\n",
       " (14, 199),\n",
       " (13, 184),\n",
       " (15, 143),\n",
       " (16, 128),\n",
       " (17, 109),\n",
       " (18, 97),\n",
       " (19, 91),\n",
       " (20, 90)]</div>"
      ]
     },
     "metadata": {
      "application/vnd.databricks.v1+output": {
       "addedWidgets": {},
       "arguments": {},
       "data": "<div class=\"ansiout\">Out[37]: [(1, 17817),\n (2, 5146),\n (3, 2291),\n (4, 1520),\n (5, 998),\n (6, 737),\n (7, 589),\n (8, 439),\n (9, 333),\n (10, 288),\n (11, 227),\n (12, 216),\n (14, 199),\n (13, 184),\n (15, 143),\n (16, 128),\n (17, 109),\n (18, 97),\n (19, 91),\n (20, 90)]</div>",
       "datasetInfos": [],
       "metadata": {},
       "removedWidgets": [],
       "type": "html"
      }
     },
     "output_type": "display_data"
    }
   ],
   "source": [
    "def histogram_reps(file_path):\n",
    "    lines = sc.textFile(file_path)\n",
    "    words = lines.flatMap(lambda line: line.split(' '))\\\n",
    "            .filter(lambda word: word)\\\n",
    "            .map(lambda word: (word,1))\\\n",
    "            .reduceByKey(lambda a, b: a + b)\\\n",
    "            .map(lambda a: (a[1],1))\\\n",
    "            .reduceByKey(lambda a, b: a + b)\\\n",
    "            .sortBy(lambda a: a[1],False)\n",
    "    \n",
    "#     output = words.take(10)\n",
    "#     output = words.takeOrdered(10,lambda a: -a[1])\n",
    "    return words.collect()\n",
    "    \n",
    "histogram_reps(quixote_path)[:20] # look at the first 20 results"
   ]
  },
  {
   "cell_type": "markdown",
   "metadata": {
    "application/vnd.databricks.v1+cell": {
     "inputWidgets": {},
     "nuid": "134c4ccb-f178-4e22-8da1-6d69d6053851",
     "showTitle": false,
     "title": ""
    },
    "deletable": false,
    "editable": false,
    "nbgrader": {
     "cell_type": "markdown",
     "checksum": "d7dcbb4eb13423d01a3234881c8ebe91",
     "grade": false,
     "grade_id": "cell-fxxxxx5ac45bd7b5",
     "locked": true,
     "schema_version": 3,
     "solution": false,
     "task": false
    }
   },
   "source": [
    "The program should pass the following test:"
   ]
  },
  {
   "cell_type": "code",
   "execution_count": 0,
   "metadata": {
    "application/vnd.databricks.v1+cell": {
     "inputWidgets": {},
     "nuid": "e644dd1b-433b-44ea-a7e3-d7996b36b9cb",
     "showTitle": false,
     "title": ""
    },
    "deletable": false,
    "editable": false,
    "nbgrader": {
     "cell_type": "code",
     "checksum": "c465622cfaeffc27210e788a9a43dbbd",
     "grade": true,
     "grade_id": "cell-72qqqqfcbcf69d29",
     "locked": true,
     "points": 0,
     "schema_version": 3,
     "solution": false,
     "task": false
    }
   },
   "outputs": [
    {
     "data": {
      "text/html": [
       "<style scoped>\n",
       "  .ansiout {\n",
       "    display: block;\n",
       "    unicode-bidi: embed;\n",
       "    white-space: pre-wrap;\n",
       "    word-wrap: break-word;\n",
       "    word-break: break-all;\n",
       "    font-family: \"Source Code Pro\", \"Menlo\", monospace;;\n",
       "    font-size: 13px;\n",
       "    color: #555;\n",
       "    margin-left: 4px;\n",
       "    line-height: 19px;\n",
       "  }\n",
       "</style>\n",
       "<div class=\"ansiout\">1 test passed.\n",
       "</div>"
      ]
     },
     "metadata": {
      "application/vnd.databricks.v1+output": {
       "addedWidgets": {},
       "arguments": {},
       "data": "<div class=\"ansiout\">1 test passed.\n</div>",
       "datasetInfos": [],
       "metadata": {},
       "removedWidgets": [],
       "type": "html"
      }
     },
     "output_type": "display_data"
    }
   ],
   "source": [
    "hist_quixote = histogram_reps(quixote_path)\n",
    "test(hist_quixote[:10],[(1, 17817), (2, 5146), (3, 2291), (4, 1520), \n",
    "                                     (5, 998), (6, 737), (7, 589), (8, 439), (9, 333), (10, 288)], \"Try again!\")"
   ]
  },
  {
   "cell_type": "markdown",
   "metadata": {
    "application/vnd.databricks.v1+cell": {
     "inputWidgets": {},
     "nuid": "bb9b01e0-ed1a-4f78-938c-c2a9da37c8ff",
     "showTitle": false,
     "title": ""
    },
    "deletable": false,
    "editable": false,
    "nbgrader": {
     "cell_type": "markdown",
     "checksum": "ea5d53971e69c74f788ee2601ef6d353",
     "grade": false,
     "grade_id": "cell-fd97145f212433e6b",
     "locked": true,
     "schema_version": 3,
     "solution": false,
     "task": false
    }
   },
   "source": [
    "You could plot this with the matplotlib library:"
   ]
  },
  {
   "cell_type": "code",
   "execution_count": 0,
   "metadata": {
    "application/vnd.databricks.v1+cell": {
     "inputWidgets": {},
     "nuid": "dc607e1b-bf09-40a6-a1ef-ea9dc62152b6",
     "showTitle": false,
     "title": ""
    }
   },
   "outputs": [
    {
     "data": {
      "image/png": "[encoded data removed]"
     },
     "metadata": {
      "application/vnd.databricks.v1+output": {
       "addedWidgets": {},
       "arguments": {},
       "data": "data:image/png;base64,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",
       "datasetInfos": [],
       "metadata": {
        "imageDimensions": {
         "height": 278,
         "width": 401
        }
       },
       "removedWidgets": [],
       "type": "image"
      },
      "image/png": {
       "height": 278,
       "width": 401
      }
     },
     "output_type": "display_data"
    }
   ],
   "source": [
    "(x_values, y_values) = zip(*hist_quixote[:10])\n",
    "plt.bar(x_values, y_values)\n",
    "plt.title('Histogram of repetitions (up to 10)')\n",
    "plt.xlabel('Number of repetitions')\n",
    "plt.ylabel('Number of words')\n",
    "plt.show()"
   ]
  },
  {
   "cell_type": "markdown",
   "metadata": {
    "application/vnd.databricks.v1+cell": {
     "inputWidgets": {},
     "nuid": "d964c716-446d-4a21-a2b9-91020412da29",
     "showTitle": false,
     "title": ""
    },
    "deletable": false,
    "editable": false,
    "nbgrader": {
     "cell_type": "markdown",
     "checksum": "86f08afa859e036f86720396b569bd13",
     "grade": false,
     "grade_id": "cell-fbf53529a525252e",
     "locked": true,
     "schema_version": 3,
     "solution": false,
     "task": false
    }
   },
   "source": [
    "## Exercise 2. Histogram of the length of the words\n",
    "\n",
    "Provide a histogram of the length of the words. Word repetition is not a problem, so if you have the word 'bye' twice in your document, you would add 2 to the number of words of length 3.\n",
    "\n",
    "* Length 1 - 100 times\n",
    "* Length 2 - 300 times\n",
    "* Length 3 - 400 times\n",
    "...\n",
    "\n",
    "You are asked to implement a `histogram_length(file_path)` function in Spark. All the processing must be done with RDDs, and there should be a single `collect()` at the end to return a list. The list must be ordered by the length of the words.\n",
    "\n",
    "**Input**: The path to a text file\n",
    "\n",
    "**Output**: (Length, number of words)\n",
    "\n",
    "**Note: We are going to assume that the maximum word length is 16 characters, so anything above that shouldn't appear in the result.**\n",
    "\n",
    "                                                                                                       [25 marks]"
   ]
  },
  {
   "cell_type": "code",
   "execution_count": 0,
   "metadata": {
    "application/vnd.databricks.v1+cell": {
     "inputWidgets": {},
     "nuid": "9cf213ae-6d5f-43db-8a71-fd60dc70c7fa",
     "showTitle": false,
     "title": ""
    },
    "deletable": false,
    "nbgrader": {
     "cell_type": "code",
     "checksum": "cc3c3326fa3b4f7895dc678245239fe1",
     "grade": false,
     "grade_id": "cell-c8afo46146af50c4b",
     "locked": false,
     "schema_version": 3,
     "solution": true
    }
   },
   "outputs": [
    {
     "data": {
      "text/html": [
       "<style scoped>\n",
       "  .ansiout {\n",
       "    display: block;\n",
       "    unicode-bidi: embed;\n",
       "    white-space: pre-wrap;\n",
       "    word-wrap: break-word;\n",
       "    word-break: break-all;\n",
       "    font-family: \"Source Code Pro\", \"Menlo\", monospace;;\n",
       "    font-size: 13px;\n",
       "    color: #555;\n",
       "    margin-left: 4px;\n",
       "    line-height: 19px;\n",
       "  }\n",
       "</style>\n",
       "<div class=\"ansiout\">Out[40]: [(1, 12978),\n",
       " (2, 80003),\n",
       " (3, 98414),\n",
       " (4, 80717),\n",
       " (5, 45809),\n",
       " (6, 33672),\n",
       " (7, 30995),\n",
       " (8, 19570),\n",
       " (9, 12350),\n",
       " (10, 7929),\n",
       " (11, 3849),\n",
       " (12, 2043),\n",
       " (13, 963),\n",
       " (14, 539),\n",
       " (15, 251),\n",
       " (16, 110)]</div>"
      ]
     },
     "metadata": {
      "application/vnd.databricks.v1+output": {
       "addedWidgets": {},
       "arguments": {},
       "data": "<div class=\"ansiout\">Out[40]: [(1, 12978),\n (2, 80003),\n (3, 98414),\n (4, 80717),\n (5, 45809),\n (6, 33672),\n (7, 30995),\n (8, 19570),\n (9, 12350),\n (10, 7929),\n (11, 3849),\n (12, 2043),\n (13, 963),\n (14, 539),\n (15, 251),\n (16, 110)]</div>",
       "datasetInfos": [],
       "metadata": {},
       "removedWidgets": [],
       "type": "html"
      }
     },
     "output_type": "display_data"
    }
   ],
   "source": [
    "def histogram_length(file_path):\n",
    "    lines = sc.textFile(file_path)\n",
    "    words = lines.flatMap(lambda line: line.split(' '))\\\n",
    "            .filter(lambda word: word and len(word)<=16)\\\n",
    "            .map(lambda word: (len(word),1))\\\n",
    "            .reduceByKey(lambda a, b: a + b)\\\n",
    "            .sortBy(lambda a: a[0])\n",
    "    \n",
    "    return words.collect()\n",
    "\n",
    "histogram_length(quixote_path)"
   ]
  },
  {
   "cell_type": "markdown",
   "metadata": {
    "application/vnd.databricks.v1+cell": {
     "inputWidgets": {},
     "nuid": "28c123c6-20d7-4bc2-8b70-b982a1266ed8",
     "showTitle": false,
     "title": ""
    },
    "deletable": false,
    "editable": false,
    "nbgrader": {
     "cell_type": "markdown",
     "checksum": "1e8cb382de01c41ab939331fe567a045",
     "grade": false,
     "grade_id": "cell-74d9340329b15db9",
     "locked": true,
     "schema_version": 3,
     "solution": false,
     "task": false
    }
   },
   "source": [
    "The program should pass the following test:"
   ]
  },
  {
   "cell_type": "code",
   "execution_count": 0,
   "metadata": {
    "application/vnd.databricks.v1+cell": {
     "inputWidgets": {},
     "nuid": "4d27c37a-a940-4834-b9c2-c350a0921a62",
     "showTitle": false,
     "title": ""
    },
    "deletable": false,
    "editable": false,
    "nbgrader": {
     "cell_type": "code",
     "checksum": "98ce233576c70e918d772750b8de1677",
     "grade": true,
     "grade_id": "cell-733bbe2050000f87",
     "locked": true,
     "points": 0,
     "schema_version": 3,
     "solution": false,
     "task": false
    }
   },
   "outputs": [
    {
     "data": {
      "text/html": [
       "<style scoped>\n",
       "  .ansiout {\n",
       "    display: block;\n",
       "    unicode-bidi: embed;\n",
       "    white-space: pre-wrap;\n",
       "    word-wrap: break-word;\n",
       "    word-break: break-all;\n",
       "    font-family: \"Source Code Pro\", \"Menlo\", monospace;;\n",
       "    font-size: 13px;\n",
       "    color: #555;\n",
       "    margin-left: 4px;\n",
       "    line-height: 19px;\n",
       "  }\n",
       "</style>\n",
       "<div class=\"ansiout\">[(1, 12978), (2, 80003), (3, 98414), (4, 80717), (5, 45809), (6, 33672), (7, 30995), (8, 19570), (9, 12350), (10, 7929), (11, 3849), (12, 2043), (13, 963), (14, 539), (15, 251), (16, 110)]\n",
       "1 test passed.\n",
       "</div>"
      ]
     },
     "metadata": {
      "application/vnd.databricks.v1+output": {
       "addedWidgets": {},
       "arguments": {},
       "data": "<div class=\"ansiout\">[(1, 12978), (2, 80003), (3, 98414), (4, 80717), (5, 45809), (6, 33672), (7, 30995), (8, 19570), (9, 12350), (10, 7929), (11, 3849), (12, 2043), (13, 963), (14, 539), (15, 251), (16, 110)]\n1 test passed.\n</div>",
       "datasetInfos": [],
       "metadata": {},
       "removedWidgets": [],
       "type": "html"
      }
     },
     "output_type": "display_data"
    }
   ],
   "source": [
    "length_quixote = histogram_length(quixote_path)\n",
    "print(length_quixote)\n",
    "test(length_quixote, [(1, 12978), (2, 80003), (3, 98414), (4, 80717), (5, 45809), \n",
    "                                   (6, 33672), (7, 30995), (8, 19570), (9, 12350), (10, 7929),\n",
    "                                   (11, 3849), (12, 2043), (13, 963), (14, 539), (15, 251), (16, 110)],\"Try again!\")"
   ]
  },
  {
   "cell_type": "markdown",
   "metadata": {
    "application/vnd.databricks.v1+cell": {
     "inputWidgets": {},
     "nuid": "2709d2d9-2da0-450d-bcee-038d61400918",
     "showTitle": false,
     "title": ""
    },
    "deletable": false,
    "editable": false,
    "nbgrader": {
     "cell_type": "markdown",
     "checksum": "e7a17862e258fefd1c06f7070792961a",
     "grade": false,
     "grade_id": "cell-8bb0158c3410eb08",
     "locked": true,
     "schema_version": 3,
     "solution": false,
     "task": false
    }
   },
   "source": [
    "### Task: Draw the histogram"
   ]
  },
  {
   "cell_type": "code",
   "execution_count": 0,
   "metadata": {
    "application/vnd.databricks.v1+cell": {
     "inputWidgets": {},
     "nuid": "115d1713-facb-45bf-8e32-632a08f82ce1",
     "showTitle": false,
     "title": ""
    },
    "deletable": false,
    "nbgrader": {
     "cell_type": "code",
     "checksum": "c184121169ad199227d893c86dc526e2",
     "grade": false,
     "grade_id": "cell-zws6fa570692b4fc",
     "locked": false,
     "schema_version": 3,
     "solution": true
    }
   },
   "outputs": [
    {
     "data": {
      "image/png": "[encoded data removed]"
     },
     "metadata": {
      "application/vnd.databricks.v1+output": {
       "addedWidgets": {},
       "arguments": {},
       "data": "data:image/png;base64,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",
       "datasetInfos": [],
       "metadata": {
        "imageDimensions": {
         "height": 278,
         "width": 407
        }
       },
       "removedWidgets": [],
       "type": "image"
      },
      "image/png": {
       "height": 278,
       "width": 407
      }
     },
     "output_type": "display_data"
    }
   ],
   "source": [
    "(x_values, y_values) = zip(*length_quixote[:10])\n",
    "plt.bar(x_values, y_values)\n",
    "plt.title('Histogram of word length (up to 16)')\n",
    "plt.xlabel('length of words')\n",
    "plt.ylabel('Number of frequency')\n",
    "plt.show()"
   ]
  },
  {
   "cell_type": "markdown",
   "metadata": {
    "application/vnd.databricks.v1+cell": {
     "inputWidgets": {},
     "nuid": "27f11b05-952c-4aa5-b4d1-7e1475251bf1",
     "showTitle": false,
     "title": ""
    },
    "deletable": false,
    "editable": false,
    "nbgrader": {
     "cell_type": "markdown",
     "checksum": "9b02c67d8e37f501ab9a3a3818e92597",
     "grade": false,
     "grade_id": "cell-7c0a25f4d71b15a4",
     "locked": true,
     "schema_version": 3,
     "solution": false,
     "task": false
    }
   },
   "source": [
    "## Exercise 3. Average length of the words in a document\n",
    "\n",
    "You are now asked to implement an `average_length(file_path)` function in Spark that provides the average length of the words in a document or documents. All the processing must be done with RDDs, and the last instruction must be the only one returning a result to the driver. \n",
    "\n",
    "**Input**: The path to a text file\n",
    "\n",
    "**Output**: Average length of the words\n",
    "\n",
    "**Note: Again, we are going to assume that the maximum word length is 16 characters, so anything above that shouldn't be used to compute the average**\n",
    "\n",
    "You can do it in two different ways (you can try both and check possible differences): \n",
    "\n",
    "- **Option 1**. As we have done in the previous lab: you will need to get the total length of the words in the text and the total number of words in just one MapReduce job. Then, you just need to make the division.\n",
    "\n",
    "\n",
    "                                                                                                       [15 marks]"
   ]
  },
  {
   "cell_type": "code",
   "execution_count": 0,
   "metadata": {
    "application/vnd.databricks.v1+cell": {
     "inputWidgets": {},
     "nuid": "4501a955-1c58-4fa0-9b5e-7e3c329c2485",
     "showTitle": false,
     "title": ""
    },
    "deletable": false,
    "nbgrader": {
     "cell_type": "code",
     "checksum": "d41bbe12130a270bf5a4aa0583e980dd",
     "grade": false,
     "grade_id": "cell-c599988574d599e2",
     "locked": false,
     "schema_version": 3,
     "solution": true
    }
   },
   "outputs": [
    {
     "data": {
      "text/html": [
       "<style scoped>\n",
       "  .ansiout {\n",
       "    display: block;\n",
       "    unicode-bidi: embed;\n",
       "    white-space: pre-wrap;\n",
       "    word-wrap: break-word;\n",
       "    word-break: break-all;\n",
       "    font-family: \"Source Code Pro\", \"Menlo\", monospace;;\n",
       "    font-size: 13px;\n",
       "    color: #555;\n",
       "    margin-left: 4px;\n",
       "    line-height: 19px;\n",
       "  }\n",
       "</style>\n",
       "<div class=\"ansiout\">Out[43]: 4.366843177000037</div>"
      ]
     },
     "metadata": {
      "application/vnd.databricks.v1+output": {
       "addedWidgets": {},
       "arguments": {},
       "data": "<div class=\"ansiout\">Out[43]: 4.366843177000037</div>",
       "datasetInfos": [],
       "metadata": {},
       "removedWidgets": [],
       "type": "html"
      }
     },
     "output_type": "display_data"
    }
   ],
   "source": [
    "def average_length(file_path):\n",
    "    lines = sc.textFile(file_path)\n",
    "    words = lines.flatMap(lambda line: line.split(' '))\\\n",
    "            .filter(lambda word: word and len(word)<=16)\\\n",
    "            .map(lambda word: (len(word),1))\\\n",
    "            .reduce(lambda x,y: (x[0]+y[0] , x[1]+y[1]))\n",
    "    \n",
    "    return words[0]/words[1]\n",
    "    \n",
    "average_length(quixote_path)"
   ]
  },
  {
   "cell_type": "markdown",
   "metadata": {
    "application/vnd.databricks.v1+cell": {
     "inputWidgets": {},
     "nuid": "b6981c0e-6675-4472-a136-ed88d03147c7",
     "showTitle": false,
     "title": ""
    },
    "deletable": false,
    "editable": false,
    "nbgrader": {
     "cell_type": "markdown",
     "checksum": "15121fcdfebe057f1325e22c484a71d5",
     "grade": false,
     "grade_id": "cell-227fe933ccc94d5",
     "locked": true,
     "schema_version": 3,
     "solution": false,
     "task": false
    }
   },
   "source": [
    "The program should pass the following test:"
   ]
  },
  {
   "cell_type": "code",
   "execution_count": 0,
   "metadata": {
    "application/vnd.databricks.v1+cell": {
     "inputWidgets": {},
     "nuid": "d53966fe-45bb-4f4f-ba0a-788eef8481c9",
     "showTitle": false,
     "title": ""
    },
    "deletable": false,
    "editable": false,
    "nbgrader": {
     "cell_type": "code",
     "checksum": "16f7f28859a9dca8147d1d2c32827316",
     "grade": true,
     "grade_id": "cell-b70iii2456f2ad27",
     "locked": true,
     "points": 5,
     "schema_version": 3,
     "solution": false
    }
   },
   "outputs": [
    {
     "data": {
      "text/html": [
       "<style scoped>\n",
       "  .ansiout {\n",
       "    display: block;\n",
       "    unicode-bidi: embed;\n",
       "    white-space: pre-wrap;\n",
       "    word-wrap: break-word;\n",
       "    word-break: break-all;\n",
       "    font-family: \"Source Code Pro\", \"Menlo\", monospace;;\n",
       "    font-size: 13px;\n",
       "    color: #555;\n",
       "    margin-left: 4px;\n",
       "    line-height: 19px;\n",
       "  }\n",
       "</style>\n",
       "<div class=\"ansiout\">1 test passed.\n",
       "</div>"
      ]
     },
     "metadata": {
      "application/vnd.databricks.v1+output": {
       "addedWidgets": {},
       "arguments": {},
       "data": "<div class=\"ansiout\">1 test passed.\n</div>",
       "datasetInfos": [],
       "metadata": {},
       "removedWidgets": [],
       "type": "html"
      }
     },
     "output_type": "display_data"
    }
   ],
   "source": [
    "avg = average_length(quixote_path)\n",
    "test(round(avg,5), 4.36684,'Try again!')"
   ]
  },
  {
   "cell_type": "markdown",
   "metadata": {
    "application/vnd.databricks.v1+cell": {
     "inputWidgets": {},
     "nuid": "68aa933d-8db7-420a-b4fe-feb3d0017576",
     "showTitle": false,
     "title": ""
    },
    "deletable": false,
    "editable": false,
    "nbgrader": {
     "cell_type": "markdown",
     "checksum": "a1b6d43546d3e14913af54abddbab98d",
     "grade": false,
     "grade_id": "cell-062d11caf5156ppp",
     "locked": true,
     "schema_version": 3,
     "solution": false,
     "task": false
    }
   },
   "source": [
    "- **Option 2**. Using some built-in functions from Spark: you can think of a function available from Spark API that can simplify the implementation.\n",
    "\n",
    "                                                                                                       [10 marks]"
   ]
  },
  {
   "cell_type": "code",
   "execution_count": 0,
   "metadata": {
    "application/vnd.databricks.v1+cell": {
     "inputWidgets": {},
     "nuid": "66735380-d63a-4d5c-8b6d-63738c4cf48b",
     "showTitle": false,
     "title": ""
    },
    "deletable": false,
    "nbgrader": {
     "cell_type": "code",
     "checksum": "b213b01354be0e3f9c9b79591ab9baa3",
     "grade": false,
     "grade_id": "cell-016b9a4b1d83yyy8",
     "locked": false,
     "schema_version": 3,
     "solution": true,
     "task": false
    }
   },
   "outputs": [
    {
     "data": {
      "text/html": [
       "<style scoped>\n",
       "  .ansiout {\n",
       "    display: block;\n",
       "    unicode-bidi: embed;\n",
       "    white-space: pre-wrap;\n",
       "    word-wrap: break-word;\n",
       "    word-break: break-all;\n",
       "    font-family: \"Source Code Pro\", \"Menlo\", monospace;;\n",
       "    font-size: 13px;\n",
       "    color: #555;\n",
       "    margin-left: 4px;\n",
       "    line-height: 19px;\n",
       "  }\n",
       "</style>\n",
       "<div class=\"ansiout\">Out[45]: 4.3668431770000335</div>"
      ]
     },
     "metadata": {
      "application/vnd.databricks.v1+output": {
       "addedWidgets": {},
       "arguments": {},
       "data": "<div class=\"ansiout\">Out[45]: 4.3668431770000335</div>",
       "datasetInfos": [],
       "metadata": {},
       "removedWidgets": [],
       "type": "html"
      }
     },
     "output_type": "display_data"
    }
   ],
   "source": [
    "def average_length(file_path):\n",
    "    lines = sc.textFile(file_path)\n",
    "    words = lines.flatMap(lambda line: line.split(' '))\\\n",
    "            .filter(lambda word: word and len(word)<=16)\\\n",
    "            .map(lambda word: len(word))\n",
    "    \n",
    "    return words.mean()\n",
    "    \n",
    "average_length(quixote_path)"
   ]
  },
  {
   "cell_type": "markdown",
   "metadata": {
    "application/vnd.databricks.v1+cell": {
     "inputWidgets": {},
     "nuid": "d6b03963-5d7a-41c9-8afb-896a021f3e07",
     "showTitle": false,
     "title": ""
    },
    "deletable": false,
    "editable": false,
    "nbgrader": {
     "cell_type": "markdown",
     "checksum": "0695b212d56267e50a2db36a8151644b",
     "grade": false,
     "grade_id": "cell-9db0ad40555a2b69",
     "locked": true,
     "schema_version": 3,
     "solution": false,
     "task": false
    }
   },
   "source": [
    "The program should pass the following test:"
   ]
  },
  {
   "cell_type": "code",
   "execution_count": 0,
   "metadata": {
    "application/vnd.databricks.v1+cell": {
     "inputWidgets": {},
     "nuid": "df885a3f-f626-476b-bbb5-4bb4f753d131",
     "showTitle": false,
     "title": ""
    },
    "deletable": false,
    "editable": false,
    "nbgrader": {
     "cell_type": "code",
     "checksum": "1641b156f9e5c8607cc607214935612f",
     "grade": true,
     "grade_id": "cell-7f77mmma2bbef40b",
     "locked": true,
     "points": 0,
     "schema_version": 3,
     "solution": false,
     "task": false
    }
   },
   "outputs": [
    {
     "data": {
      "text/html": [
       "<style scoped>\n",
       "  .ansiout {\n",
       "    display: block;\n",
       "    unicode-bidi: embed;\n",
       "    white-space: pre-wrap;\n",
       "    word-wrap: break-word;\n",
       "    word-break: break-all;\n",
       "    font-family: \"Source Code Pro\", \"Menlo\", monospace;;\n",
       "    font-size: 13px;\n",
       "    color: #555;\n",
       "    margin-left: 4px;\n",
       "    line-height: 19px;\n",
       "  }\n",
       "</style>\n",
       "<div class=\"ansiout\">1 test passed.\n",
       "</div>"
      ]
     },
     "metadata": {
      "application/vnd.databricks.v1+output": {
       "addedWidgets": {},
       "arguments": {},
       "data": "<div class=\"ansiout\">1 test passed.\n</div>",
       "datasetInfos": [],
       "metadata": {},
       "removedWidgets": [],
       "type": "html"
      }
     },
     "output_type": "display_data"
    }
   ],
   "source": [
    "avg = average_length(quixote_path)\n",
    "test(round(avg,5), 4.36684,'Try again!')"
   ]
  },
  {
   "cell_type": "markdown",
   "metadata": {
    "application/vnd.databricks.v1+cell": {
     "inputWidgets": {},
     "nuid": "b79183d6-7d16-4396-b0e1-bf9047498435",
     "showTitle": false,
     "title": ""
    },
    "deletable": false,
    "editable": false,
    "nbgrader": {
     "cell_type": "markdown",
     "checksum": "d567f5e9d2e0d2db48693eecaf0557e9",
     "grade": false,
     "grade_id": "cell-7111d2ea9f467ae9",
     "locked": true,
     "schema_version": 3,
     "solution": false,
     "task": false
    }
   },
   "source": [
    "## Exercise 4. Find a list of common friends between pairs of friends\n",
    "\n",
    "Obtain a list of common friends for each pair of friends. That is, for each two people that are friends (assuming friendship is bi-directional), you need to find the friends in common.\n",
    "\n",
    "You are asked to implement a function `common_friends(file_path)` that reads a file that contains a list of friends for each person. The function should output for each pair of friends, the list of common friends.\n",
    "\n",
    "**Input**: A file with the following format: Person -> List of friends. \n",
    "\n",
    "```\n",
    "Isaac -> Mikel John Lucy\n",
    "Mikel -> Isaac John Lucy Claudia\n",
    "John -> Isaac Mikel Lucy Claudia\n",
    "Lucy -> Isaac Mikel John Claudia\n",
    "Claudia -> Mikel John Lucy\n",
    "```\n",
    "\n",
    "**Output**: (pair of friends, list of common friends)\n",
    "```\n",
    "(Isaac, Mikel)    -> [John, Lucy]\n",
    "(Claudia, Mikel)  -> [John, Lucy]\n",
    "(John, Lucy)      -> [Claudia, Isaac, Mikel]\n",
    "(Isaac, John)     -> [Lucy, Mikel]\n",
    "(Isaac, Lucy)     -> [John, Mikel]\n",
    "(John, Mikel)     -> [Claudia, Isaac, Lucy]\n",
    "(Lucy, Mikel)     -> [Claudia, Isaac, John]\n",
    "(Claudia, John)   -> [Lucy, Mikel]\n",
    "(Claudia, Lucy)   -> [John, Mikel]\n",
    "\n",
    "```\n",
    "\n",
    "You could follow similar steps to the ones in the previous exercise:\n",
    "\n",
    "- Parse the input file to create an RDD of tuples like this: \n",
    "\n",
    "```\n",
    "[\n",
    " ('Isaac', ['Mikel', 'John', 'Lucy']),\n",
    " ('Mikel', ['Isaac', 'John', 'Lucy', 'Claudia']),\n",
    " ('John', ['Isaac', 'Mikel', 'Lucy', 'Claudia']),\n",
    " ('Lucy', ['Isaac', 'Mikel', 'John', 'Claudia']),\n",
    " ('Claudia', ['Mikel', 'John', 'Lucy'])\n",
    "]\n",
    "```\n",
    "\n",
    "- For each one of these, we would recommend a function to create a list of tuples that looks like this:\n",
    "\n",
    "```\n",
    "[\n",
    " (('Isaac', 'Mikel'), ['Mikel', 'John', 'Lucy']),\n",
    " (('Isaac', 'John'), ['Mikel', 'John', 'Lucy']),\n",
    " (('Isaac', 'Lucy'), ['Mikel', 'John', 'Lucy'])\n",
    "]\n",
    "```\n",
    "\n",
    "**Note**:  Make sure you sort the tuples that will be acting as keys. Lists cannot be used as keys in Spark because they are mutable. When you sort a tuple with `sorted`, you will get a list, which must be converted back to a tuple.\n",
    " \n",
    "- You will have to aggregate those results by key and perform the final intersection of list of friends.\n",
    "\n",
    "                                                                                                       [25 marks]"
   ]
  },
  {
   "cell_type": "code",
   "execution_count": 0,
   "metadata": {
    "application/vnd.databricks.v1+cell": {
     "inputWidgets": {},
     "nuid": "118f42c1-cf98-40ba-a20b-bdacbb8797f5",
     "showTitle": false,
     "title": ""
    },
    "deletable": false,
    "nbgrader": {
     "cell_type": "code",
     "checksum": "f66057038cd9019ca79cb09fc8912f93",
     "grade": false,
     "grade_id": "cell-1f34f7d187fd5679",
     "locked": false,
     "schema_version": 3,
     "solution": true
    }
   },
   "outputs": [
    {
     "data": {
      "text/html": [
       "<style scoped>\n",
       "  .ansiout {\n",
       "    display: block;\n",
       "    unicode-bidi: embed;\n",
       "    white-space: pre-wrap;\n",
       "    word-wrap: break-word;\n",
       "    word-break: break-all;\n",
       "    font-family: \"Source Code Pro\", \"Menlo\", monospace;;\n",
       "    font-size: 13px;\n",
       "    color: #555;\n",
       "    margin-left: 4px;\n",
       "    line-height: 19px;\n",
       "  }\n",
       "</style>\n",
       "<div class=\"ansiout\">Out[47]: [((&#39;Isaac&#39;, &#39;Mikel&#39;), [&#39;John&#39;, &#39;Lucy&#39;]),\n",
       " ((&#39;Claudia&#39;, &#39;Mikel&#39;), [&#39;John&#39;, &#39;Lucy&#39;]),\n",
       " ((&#39;John&#39;, &#39;Lucy&#39;), [&#39;Claudia&#39;, &#39;Mikel&#39;, &#39;Isaac&#39;]),\n",
       " ((&#39;Isaac&#39;, &#39;John&#39;), [&#39;Mikel&#39;, &#39;Lucy&#39;]),\n",
       " ((&#39;Isaac&#39;, &#39;Lucy&#39;), [&#39;John&#39;, &#39;Mikel&#39;]),\n",
       " ((&#39;John&#39;, &#39;Mikel&#39;), [&#39;Claudia&#39;, &#39;Isaac&#39;, &#39;Lucy&#39;]),\n",
       " ((&#39;Lucy&#39;, &#39;Mikel&#39;), [&#39;Claudia&#39;, &#39;John&#39;, &#39;Isaac&#39;]),\n",
       " ((&#39;Claudia&#39;, &#39;John&#39;), [&#39;Mikel&#39;, &#39;Lucy&#39;]),\n",
       " ((&#39;Claudia&#39;, &#39;Lucy&#39;), [&#39;John&#39;, &#39;Mikel&#39;])]</div>"
      ]
     },
     "metadata": {
      "application/vnd.databricks.v1+output": {
       "addedWidgets": {},
       "arguments": {},
       "data": "<div class=\"ansiout\">Out[47]: [((&#39;Isaac&#39;, &#39;Mikel&#39;), [&#39;John&#39;, &#39;Lucy&#39;]),\n ((&#39;Claudia&#39;, &#39;Mikel&#39;), [&#39;John&#39;, &#39;Lucy&#39;]),\n ((&#39;John&#39;, &#39;Lucy&#39;), [&#39;Claudia&#39;, &#39;Mikel&#39;, &#39;Isaac&#39;]),\n ((&#39;Isaac&#39;, &#39;John&#39;), [&#39;Mikel&#39;, &#39;Lucy&#39;]),\n ((&#39;Isaac&#39;, &#39;Lucy&#39;), [&#39;John&#39;, &#39;Mikel&#39;]),\n ((&#39;John&#39;, &#39;Mikel&#39;), [&#39;Claudia&#39;, &#39;Isaac&#39;, &#39;Lucy&#39;]),\n ((&#39;Lucy&#39;, &#39;Mikel&#39;), [&#39;Claudia&#39;, &#39;John&#39;, &#39;Isaac&#39;]),\n ((&#39;Claudia&#39;, &#39;John&#39;), [&#39;Mikel&#39;, &#39;Lucy&#39;]),\n ((&#39;Claudia&#39;, &#39;Lucy&#39;), [&#39;John&#39;, &#39;Mikel&#39;])]</div>",
       "datasetInfos": [],
       "metadata": {},
       "removedWidgets": [],
       "type": "html"
      }
     },
     "output_type": "display_data"
    }
   ],
   "source": [
    "def create_pair(x):\n",
    "  output = []\n",
    "  for name in x[1]:\n",
    "    name_pair = [x[0],name]\n",
    "    name_pair.sort()\n",
    "    name_pair = tuple(name_pair)\n",
    "    output.append((name_pair,x[1]))\n",
    "  return output\n",
    "\n",
    "def common_friends(file_path):\n",
    "    lines = sc.textFile(file_path)\\\n",
    "            .map(lambda x : x.split(\" -> \"))\\\n",
    "            .map(lambda x : (x[0], x[1].split(\" \")))\\\n",
    "            .flatMap(lambda x : create_pair(x))\\\n",
    "            .reduceByKey(lambda x, y : list(set(x).intersection(y)))\n",
    "#             .reduceByKey(lambda x, y : list(set(x) & set(y)))\n",
    "    \n",
    "    return lines.take(10)\n",
    "    \n",
    "common_friends(friend_path)"
   ]
  },
  {
   "cell_type": "markdown",
   "metadata": {
    "application/vnd.databricks.v1+cell": {
     "inputWidgets": {},
     "nuid": "81b6991d-956e-4434-9081-db837ccae88e",
     "showTitle": false,
     "title": ""
    },
    "deletable": false,
    "editable": false,
    "nbgrader": {
     "cell_type": "markdown",
     "checksum": "cbecac8a21455cd5f0963116853e51d4",
     "grade": false,
     "grade_id": "cell-cca79e0781rrr4bf",
     "locked": true,
     "schema_version": 3,
     "solution": false,
     "task": false
    }
   },
   "source": [
    "The program should pass the following test."
   ]
  },
  {
   "cell_type": "code",
   "execution_count": 0,
   "metadata": {
    "application/vnd.databricks.v1+cell": {
     "inputWidgets": {},
     "nuid": "67b81f40-567c-4ebf-9d34-41ec6234812e",
     "showTitle": false,
     "title": ""
    },
    "deletable": false,
    "editable": false,
    "nbgrader": {
     "cell_type": "code",
     "checksum": "3a97da27dabe340704c7dcc8200939ea",
     "grade": true,
     "grade_id": "cell-220e62dc94rr30e",
     "locked": true,
     "points": 0,
     "schema_version": 3,
     "solution": false,
     "task": false
    }
   },
   "outputs": [
    {
     "data": {
      "text/html": [
       "<style scoped>\n",
       "  .ansiout {\n",
       "    display: block;\n",
       "    unicode-bidi: embed;\n",
       "    white-space: pre-wrap;\n",
       "    word-wrap: break-word;\n",
       "    word-break: break-all;\n",
       "    font-family: \"Source Code Pro\", \"Menlo\", monospace;;\n",
       "    font-size: 13px;\n",
       "    color: #555;\n",
       "    margin-left: 4px;\n",
       "    line-height: 19px;\n",
       "  }\n",
       "</style>\n",
       "<div class=\"ansiout\">1 test passed.\n",
       "</div>"
      ]
     },
     "metadata": {
      "application/vnd.databricks.v1+output": {
       "addedWidgets": {},
       "arguments": {},
       "data": "<div class=\"ansiout\">1 test passed.\n</div>",
       "datasetInfos": [],
       "metadata": {},
       "removedWidgets": [],
       "type": "html"
      }
     },
     "output_type": "display_data"
    }
   ],
   "source": [
    "test(sorted(map(lambda t: (t[0], sorted(t[1])), common_friends(friend_path))), \n",
    "                  sorted(map(lambda t: (t[0], sorted(t[1])), [(('Isaac', 'Mikel'), ['John', 'Lucy']),\n",
    "                                                              (('Claudia', 'Mikel'), ['John', 'Lucy']),\n",
    "                                                              (('John', 'Lucy'), ['Claudia', 'Isaac', 'Mikel']),\n",
    "                                                              (('Isaac', 'John'), ['Lucy', 'Mikel']),\n",
    "                                                              (('Isaac', 'Lucy'), ['John', 'Mikel']),\n",
    "                                                              (('John', 'Mikel'), ['Claudia', 'Isaac', 'Lucy']),\n",
    "                                                              (('Lucy', 'Mikel'), ['Claudia', 'Isaac', 'John']),\n",
    "                                                              (('Claudia', 'John'), ['Lucy', 'Mikel']),\n",
    "                                                              (('Claudia', 'Lucy'), ['John', 'Mikel'])])), \n",
    "                  'Try again!')"
   ]
  },
  {
   "cell_type": "code",
   "execution_count": 0,
   "metadata": {
    "application/vnd.databricks.v1+cell": {
     "inputWidgets": {},
     "nuid": "fc3daaf6-e7a5-4714-9d02-f430c5dedb14",
     "showTitle": false,
     "title": ""
    }
   },
   "outputs": [
    {
     "data": {
      "text/html": [
       "<style scoped>\n",
       "  .ansiout {\n",
       "    display: block;\n",
       "    unicode-bidi: embed;\n",
       "    white-space: pre-wrap;\n",
       "    word-wrap: break-word;\n",
       "    word-break: break-all;\n",
       "    font-family: \"Source Code Pro\", \"Menlo\", monospace;;\n",
       "    font-size: 13px;\n",
       "    color: #555;\n",
       "    margin-left: 4px;\n",
       "    line-height: 19px;\n",
       "  }\n",
       "</style>"
      ]
     },
     "metadata": {
      "application/vnd.databricks.v1+output": {
       "arguments": {},
       "data": "",
       "errorSummary": "",
       "errorTraceType": null,
       "metadata": {},
       "type": "ipynbError"
      }
     },
     "output_type": "display_data"
    }
   ],
   "source": []
  }
 ],
 "metadata": {
  "application/vnd.databricks.v1+notebook": {
   "dashboards": [],
   "language": "python",
   "notebookMetadata": {
    "pythonIndentUnit": 2
   },
   "notebookName": "RDD Lab",
   "notebookOrigID": 1653303858158557,
   "widgets": {}
  },
  "kernelspec": {
   "display_name": "Python 3 (ipykernel)",
   "language": "python",
   "name": "python3"
  },
  "language_info": {
   "codemirror_mode": {
    "name": "ipython",
    "version": 3
   },
   "file_extension": ".py",
   "mimetype": "text/x-python",
   "name": "python",
   "nbconvert_exporter": "python",
   "pygments_lexer": "ipython3",
   "version": "3.9.7"
  }
 },
 "nbformat": 4,
 "nbformat_minor": 1
}
