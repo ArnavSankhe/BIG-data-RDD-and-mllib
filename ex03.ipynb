{
 "cells": [
  {
   "cell_type": "markdown",
   "metadata": {
    "application/vnd.databricks.v1+cell": {
     "inputWidgets": {},
     "nuid": "c6ebc09a-31eb-40a9-8252-fa7c6b70c93b",
     "showTitle": false,
     "title": ""
    },
    "deletable": false,
    "editable": false,
    "nbgrader": {
     "cell_type": "markdown",
     "checksum": "90c054d37f6d207b6c795082e660f097",
     "grade": false,
     "grade_id": "cell-e05969ec582a0b26",
     "locked": true,
     "schema_version": 3,
     "solution": false,
     "task": false
    }
   },
   "source": [
    "# Spark SQL\n",
    "## Lab assignment: Exercises with MapReduce on Spark SQL - Dataframes\n",
    "\n",
    "The aim of this notebook is to play with the DataFrame API of Apache Spark, aiming to solve the same MapReduce exercises we did for the previous labs.\n",
    "\n",
    "The key difference will be the programming style, which will be more SQL-like. You should always use the functions provided by SparkSQL, I will import these functions as 'F', so we know for sure we are using Spark functions and not Python functions!\n",
    "\n",
    "**Note**: I have decided to leave out the exercise about the list of common friends between pairs of friends with DataFrames. Whilst definitely possible, I don't see much point in doing so. You could try and let me know how you get on with it, but you might need to use User-Defined Functions, or other functions I didn't explain."
   ]
  },
  {
   "cell_type": "markdown",
   "metadata": {
    "application/vnd.databricks.v1+cell": {
     "inputWidgets": {},
     "nuid": "55f04f48-e3c4-47ad-a830-797b55ab4978",
     "showTitle": false,
     "title": ""
    },
    "deletable": false,
    "editable": false,
    "nbgrader": {
     "cell_type": "markdown",
     "checksum": "f9d8fa43bd5d45e9dd31f766244ea7a8",
     "grade": false,
     "grade_id": "cell-77734fdb789e84f6",
     "locked": true,
     "schema_version": 3,
     "solution": false,
     "task": false
    }
   },
   "source": [
    "## Submission and marking criteria\n",
    "\n",
    "You should complete this notebook and add your solutions to it. When you are done, rename your completed notebook as `ex03.ipynb`. \n",
    "\n",
    "Important notes:\n",
    "- The **group leader** must submit the `ex03.ipynb` file on Moodle.\n",
    "- **Each member of the group** must complete the peer review survey and their contribution statement using this [link](https://forms.office.com/Pages/ResponsePage.aspx?id=7qe9Z4D970GskTWEGCkKHjZupmfSK6JKqlvGZrucaoBUM00wTlFINzdWRklMOVFNWlFVWVVCREZOTCQlQCN0PWcu). **You can only submit this survey ONCE**.\n",
    "- This lab is marked out of 100 marks. We give you 10 marks for completing exercise 0 with our help, and the three remaining exercises are worth 30 marks each.\n",
    "- The marking will be focused on:\n",
    "    - Code that does solve the task correctly (15 marks).\n",
    "    - Efficiency of the solution (15 marks).\n",
    "    - Minor mistakes will deduct marks from each exercise.\n",
    "- **Submission deadline: 11th March 2022 at 3pm**"
   ]
  },
  {
   "cell_type": "markdown",
   "metadata": {
    "application/vnd.databricks.v1+cell": {
     "inputWidgets": {},
     "nuid": "d5aa24a5-a60e-45d4-a3b7-6809f9939500",
     "showTitle": false,
     "title": ""
    },
    "deletable": false,
    "editable": false,
    "nbgrader": {
     "cell_type": "markdown",
     "checksum": "b9943afb7a5f822050995c1ba038ce4d",
     "grade": false,
     "grade_id": "cell-2cec9fd6229659a2",
     "locked": true,
     "schema_version": 3,
     "solution": false,
     "task": false
    }
   },
   "source": [
    "## Set-up"
   ]
  },
  {
   "cell_type": "markdown",
   "metadata": {
    "application/vnd.databricks.v1+cell": {
     "inputWidgets": {},
     "nuid": "396f5c6d-daca-43fa-9a9b-c8f6e37845db",
     "showTitle": false,
     "title": ""
    },
    "deletable": false,
    "editable": false,
    "nbgrader": {
     "cell_type": "markdown",
     "checksum": "cede54f3c493570a8b81ff2e2103faa4",
     "grade": false,
     "grade_id": "cell-40a6e2427a09ad72",
     "locked": true,
     "schema_version": 3,
     "solution": false,
     "task": false
    }
   },
   "source": [
    "The first thing we need to do to start working with Spark is to initialize the `SparkSession`. We will also import a few libraries we will use. *Remember if you are using Databricks that `spark` and `sc` are already available to you and don't need initializing.*"
   ]
  },
  {
   "cell_type": "code",
   "execution_count": 0,
   "metadata": {
    "application/vnd.databricks.v1+cell": {
     "inputWidgets": {},
     "nuid": "68779d22-c303-40ae-a3b4-db29c95c7d3a",
     "showTitle": false,
     "title": ""
    }
   },
   "outputs": [
    {
     "data": {
      "text/html": [
       "<style scoped>\n",
       "  .ansiout {\n",
       "    display: block;\n",
       "    unicode-bidi: embed;\n",
       "    white-space: pre-wrap;\n",
       "    word-wrap: break-word;\n",
       "    word-break: break-all;\n",
       "    font-family: \"Source Code Pro\", \"Menlo\", monospace;;\n",
       "    font-size: 13px;\n",
       "    color: #555;\n",
       "    margin-left: 4px;\n",
       "    line-height: 19px;\n",
       "  }\n",
       "</style>\n",
       "<div class=\"ansiout\"></div>"
      ]
     },
     "metadata": {
      "application/vnd.databricks.v1+output": {
       "addedWidgets": {},
       "arguments": {},
       "data": "<div class=\"ansiout\"></div>",
       "datasetInfos": [],
       "metadata": {},
       "removedWidgets": [],
       "type": "html"
      }
     },
     "output_type": "display_data"
    }
   ],
   "source": [
    "from pyspark.sql import SparkSession\n",
    "\n",
    "spark = SparkSession \\\n",
    "    .builder \\\n",
    "    .master(\"local[*]\") \\\n",
    "    .appName(\"Spark SQL Lab\") \\\n",
    "    .getOrCreate() \n",
    "\n",
    "sc = spark.sparkContext "
   ]
  },
  {
   "cell_type": "code",
   "execution_count": 0,
   "metadata": {
    "application/vnd.databricks.v1+cell": {
     "inputWidgets": {},
     "nuid": "f75aabd7-0bb2-4e72-816c-9184391037e7",
     "showTitle": false,
     "title": ""
    }
   },
   "outputs": [
    {
     "data": {
      "text/html": [
       "<style scoped>\n",
       "  .ansiout {\n",
       "    display: block;\n",
       "    unicode-bidi: embed;\n",
       "    white-space: pre-wrap;\n",
       "    word-wrap: break-word;\n",
       "    word-break: break-all;\n",
       "    font-family: \"Source Code Pro\", \"Menlo\", monospace;;\n",
       "    font-size: 13px;\n",
       "    color: #555;\n",
       "    margin-left: 4px;\n",
       "    line-height: 19px;\n",
       "  }\n",
       "</style>\n",
       "<div class=\"ansiout\"></div>"
      ]
     },
     "metadata": {
      "application/vnd.databricks.v1+output": {
       "addedWidgets": {},
       "arguments": {},
       "data": "<div class=\"ansiout\"></div>",
       "datasetInfos": [],
       "metadata": {},
       "removedWidgets": [],
       "type": "html"
      }
     },
     "output_type": "display_data"
    }
   ],
   "source": [
    "%matplotlib inline \n",
    "import matplotlib.pyplot as plt\n",
    "from pyspark.sql import functions as F  # I import all Spark Functions, like length, when, explode...\n",
    "from pyspark.sql import Row\n",
    "\n",
    "# Helper function to test the correctness of the solutions\n",
    "def test(var, val, msg=\"\"):\n",
    "    print(\"1 test passed.\") if var == val else print(\"1 test failed. \" + msg)"
   ]
  },
  {
   "cell_type": "markdown",
   "metadata": {
    "application/vnd.databricks.v1+cell": {
     "inputWidgets": {},
     "nuid": "8371c301-4f07-4915-acbe-8ecdc2f540e6",
     "showTitle": false,
     "title": ""
    },
    "deletable": false,
    "editable": false,
    "nbgrader": {
     "cell_type": "markdown",
     "checksum": "c5b54d35fcd453b8d0e605376a51d483",
     "grade": false,
     "grade_id": "cell-284cbe6140883e04",
     "locked": true,
     "schema_version": 3,
     "solution": false,
     "task": false
    }
   },
   "source": [
    "## Exercise 0: Word Count with DataFrames\n",
    "\n",
    "As a warm-up, let's implement the Word Count with DataFrames. As in the previous lab, you're as asked to implement a `word_count(file_path)` function that counts the number of words in a document or a number of text documents provided in the input path.\n",
    "\n",
    "**Input:** The path to a text file\n",
    "\n",
    "**Output:** (word, count) - only the 10 words with the highest frequency!\n",
    "\n",
    "Recommended steps:\n",
    "1. Read the file or files. Each line should be an element of the DataFrame.\n",
    "2. Split the lines into words. (*transformation*)\n",
    "3. Filter empty words (`''`) resulting from previous steps. (*transformation*)\n",
    "4. Count the number of occurrences of each word. (*action*)\n",
    "5. Return to the driver program the 10 most repeated words. (*action*)\n",
    "\n",
    "**Additional challenge**: Improve the word count, eliminating any punctuation marks and avoid word duplicated due to capitalisation. *Advice*: Use SQL functions like: regexp_replace, trim, col or lower.\n",
    "\n",
    "We are providing a step-by-step solution for this exercise below (yes! we are this nice!), but we suggest you try it yourself first.\n",
    "\n",
    "                                                                                                       [10 marks]"
   ]
  },
  {
   "cell_type": "code",
   "execution_count": 0,
   "metadata": {
    "application/vnd.databricks.v1+cell": {
     "inputWidgets": {},
     "nuid": "92b5b69c-1d68-43d0-b37a-6d495a3d8ed9",
     "showTitle": false,
     "title": ""
    },
    "deletable": false,
    "nbgrader": {
     "cell_type": "code",
     "checksum": "5144d45aab8c1b1c7cc0c98431635141",
     "grade": false,
     "grade_id": "cell-75b6d31821a2b65a",
     "locked": false,
     "schema_version": 3,
     "solution": true,
     "task": false
    }
   },
   "outputs": [
    {
     "data": {
      "text/html": [
       "<style scoped>\n",
       "  .ansiout {\n",
       "    display: block;\n",
       "    unicode-bidi: embed;\n",
       "    white-space: pre-wrap;\n",
       "    word-wrap: break-word;\n",
       "    word-break: break-all;\n",
       "    font-family: \"Source Code Pro\", \"Menlo\", monospace;;\n",
       "    font-size: 13px;\n",
       "    color: #555;\n",
       "    margin-left: 4px;\n",
       "    line-height: 19px;\n",
       "  }\n",
       "</style>\n",
       "<div class=\"ansiout\">Out[89]: [Row(word=&#39;the&#39;, count=20923),\n",
       " Row(word=&#39;and&#39;, count=16606),\n",
       " Row(word=&#39;to&#39;, count=13492),\n",
       " Row(word=&#39;of&#39;, count=12866),\n",
       " Row(word=&#39;that&#39;, count=7164),\n",
       " Row(word=&#39;a&#39;, count=7003),\n",
       " Row(word=&#39;in&#39;, count=6860),\n",
       " Row(word=&#39;I&#39;, count=5756),\n",
       " Row(word=&#39;he&#39;, count=5640),\n",
       " Row(word=&#39;for&#39;, count=4534)]</div>"
      ]
     },
     "metadata": {
      "application/vnd.databricks.v1+output": {
       "addedWidgets": {},
       "arguments": {},
       "data": "<div class=\"ansiout\">Out[89]: [Row(word=&#39;the&#39;, count=20923),\n Row(word=&#39;and&#39;, count=16606),\n Row(word=&#39;to&#39;, count=13492),\n Row(word=&#39;of&#39;, count=12866),\n Row(word=&#39;that&#39;, count=7164),\n Row(word=&#39;a&#39;, count=7003),\n Row(word=&#39;in&#39;, count=6860),\n Row(word=&#39;I&#39;, count=5756),\n Row(word=&#39;he&#39;, count=5640),\n Row(word=&#39;for&#39;, count=4534)]</div>",
       "datasetInfos": [],
       "metadata": {},
       "removedWidgets": [],
       "type": "html"
      }
     },
     "output_type": "display_data"
    }
   ],
   "source": [
    "def word_count(file_path):\n",
    "    # <FILL-IN WITH YOUR CODE>\n",
    "  df_text = spark.read.text(file_path)\n",
    "  output = df_text.select( \\\n",
    "        F.explode(F.split(\"value\", \" \")) \\\n",
    "        .alias(\"word\")) \\\n",
    "        .filter(\"word != ''\") \\\n",
    "        .groupBy(\"word\").count() \\\n",
    "        .sort(F.desc(\"count\")) \\\n",
    "        .take(10)\n",
    "#   df_text.unpersist()\n",
    "  return output\n",
    "\n",
    "# Test the function with quixote.txt file\n",
    "word_count(\"/mnt/nogroup/data/quixote.txt\")  "
   ]
  },
  {
   "cell_type": "markdown",
   "metadata": {
    "application/vnd.databricks.v1+cell": {
     "inputWidgets": {},
     "nuid": "23f2aef6-ad7d-4e6f-9afa-99837eccb2ad",
     "showTitle": false,
     "title": ""
    },
    "deletable": false,
    "editable": false,
    "nbgrader": {
     "cell_type": "markdown",
     "checksum": "e8a532106b3b344effb6eaebcd823835",
     "grade": false,
     "grade_id": "cell-7620a7a5daf517e3",
     "locked": true,
     "schema_version": 3,
     "solution": false,
     "task": false
    }
   },
   "source": [
    "The program should pass the following test:"
   ]
  },
  {
   "cell_type": "code",
   "execution_count": 0,
   "metadata": {
    "application/vnd.databricks.v1+cell": {
     "inputWidgets": {},
     "nuid": "e2d62d63-8e3c-4dcb-a0eb-ba95c8808b0a",
     "showTitle": false,
     "title": ""
    },
    "deletable": false,
    "editable": false,
    "nbgrader": {
     "cell_type": "code",
     "checksum": "f709c96a3dc96d23af1f7bc13f6890e8",
     "grade": true,
     "grade_id": "cell-ef044fd580a494e6",
     "locked": true,
     "points": 5,
     "schema_version": 3,
     "solution": false
    }
   },
   "outputs": [
    {
     "data": {
      "text/html": [
       "<style scoped>\n",
       "  .ansiout {\n",
       "    display: block;\n",
       "    unicode-bidi: embed;\n",
       "    white-space: pre-wrap;\n",
       "    word-wrap: break-word;\n",
       "    word-break: break-all;\n",
       "    font-family: \"Source Code Pro\", \"Menlo\", monospace;;\n",
       "    font-size: 13px;\n",
       "    color: #555;\n",
       "    margin-left: 4px;\n",
       "    line-height: 19px;\n",
       "  }\n",
       "</style>\n",
       "<div class=\"ansiout\">[Row(word=&#39;the&#39;, count=20923), Row(word=&#39;and&#39;, count=16606), Row(word=&#39;to&#39;, count=13492), Row(word=&#39;of&#39;, count=12866), Row(word=&#39;that&#39;, count=7164), Row(word=&#39;a&#39;, count=7003), Row(word=&#39;in&#39;, count=6860), Row(word=&#39;I&#39;, count=5756), Row(word=&#39;he&#39;, count=5640), Row(word=&#39;for&#39;, count=4534)]\n",
       "1 test passed.\n",
       "</div>"
      ]
     },
     "metadata": {
      "application/vnd.databricks.v1+output": {
       "addedWidgets": {},
       "arguments": {},
       "data": "<div class=\"ansiout\">[Row(word=&#39;the&#39;, count=20923), Row(word=&#39;and&#39;, count=16606), Row(word=&#39;to&#39;, count=13492), Row(word=&#39;of&#39;, count=12866), Row(word=&#39;that&#39;, count=7164), Row(word=&#39;a&#39;, count=7003), Row(word=&#39;in&#39;, count=6860), Row(word=&#39;I&#39;, count=5756), Row(word=&#39;he&#39;, count=5640), Row(word=&#39;for&#39;, count=4534)]\n1 test passed.\n</div>",
       "datasetInfos": [],
       "metadata": {},
       "removedWidgets": [],
       "type": "html"
      }
     },
     "output_type": "display_data"
    }
   ],
   "source": [
    "top10_quixote = word_count(\"/mnt/nogroup/data/quixote.txt\")\n",
    "print(top10_quixote)\n",
    "test(top10_quixote, [('the', 20923), ('and', 16606), ('to', 13492), ('of', 12866), \n",
    "                                  ('that', 7164), ('a', 7003), ('in', 6860), ('I', 5756), ('he', 5640), \n",
    "                                  ('for', 4534)], \"Try again!\")"
   ]
  },
  {
   "cell_type": "markdown",
   "metadata": {
    "application/vnd.databricks.v1+cell": {
     "inputWidgets": {},
     "nuid": "c1b1802b-1d77-4b6a-9c79-4699c0f390e9",
     "showTitle": false,
     "title": ""
    }
   },
   "source": [
    "### Step-by-step Solution"
   ]
  },
  {
   "cell_type": "code",
   "execution_count": 0,
   "metadata": {
    "application/vnd.databricks.v1+cell": {
     "inputWidgets": {},
     "nuid": "a7607480-0fdd-4070-a270-2f68cebdbc56",
     "showTitle": false,
     "title": ""
    }
   },
   "outputs": [
    {
     "data": {
      "text/html": [
       "<style scoped>\n",
       "  .ansiout {\n",
       "    display: block;\n",
       "    unicode-bidi: embed;\n",
       "    white-space: pre-wrap;\n",
       "    word-wrap: break-word;\n",
       "    word-break: break-all;\n",
       "    font-family: \"Source Code Pro\", \"Menlo\", monospace;;\n",
       "    font-size: 13px;\n",
       "    color: #555;\n",
       "    margin-left: 4px;\n",
       "    line-height: 19px;\n",
       "  }\n",
       "</style>\n",
       "<div class=\"ansiout\"></div>"
      ]
     },
     "metadata": {
      "application/vnd.databricks.v1+output": {
       "addedWidgets": {},
       "arguments": {},
       "data": "<div class=\"ansiout\"></div>",
       "datasetInfos": [],
       "metadata": {},
       "removedWidgets": [],
       "type": "html"
      }
     },
     "output_type": "display_data"
    }
   ],
   "source": [
    "df_text = spark.read.text(\"/mnt/nogroup/data/quixote.txt\")"
   ]
  },
  {
   "cell_type": "markdown",
   "metadata": {
    "application/vnd.databricks.v1+cell": {
     "inputWidgets": {},
     "nuid": "53e891a5-5d72-4e49-a9c5-046f701d93a9",
     "showTitle": false,
     "title": ""
    }
   },
   "source": [
    "We are going to play with this for a bit, so let's cache it."
   ]
  },
  {
   "cell_type": "code",
   "execution_count": 0,
   "metadata": {
    "application/vnd.databricks.v1+cell": {
     "inputWidgets": {},
     "nuid": "50aed2db-7e9f-4d6b-895b-b903ad63f105",
     "showTitle": false,
     "title": ""
    }
   },
   "outputs": [
    {
     "data": {
      "text/html": [
       "<style scoped>\n",
       "  .ansiout {\n",
       "    display: block;\n",
       "    unicode-bidi: embed;\n",
       "    white-space: pre-wrap;\n",
       "    word-wrap: break-word;\n",
       "    word-break: break-all;\n",
       "    font-family: \"Source Code Pro\", \"Menlo\", monospace;;\n",
       "    font-size: 13px;\n",
       "    color: #555;\n",
       "    margin-left: 4px;\n",
       "    line-height: 19px;\n",
       "  }\n",
       "</style>\n",
       "<div class=\"ansiout\">Out[35]: DataFrame[value: string]</div>"
      ]
     },
     "metadata": {
      "application/vnd.databricks.v1+output": {
       "addedWidgets": {},
       "arguments": {},
       "data": "<div class=\"ansiout\">Out[35]: DataFrame[value: string]</div>",
       "datasetInfos": [],
       "metadata": {},
       "removedWidgets": [],
       "type": "html"
      }
     },
     "output_type": "display_data"
    }
   ],
   "source": [
    "df_text.cache()"
   ]
  },
  {
   "cell_type": "markdown",
   "metadata": {
    "application/vnd.databricks.v1+cell": {
     "inputWidgets": {},
     "nuid": "97080ecc-d1b2-485c-b979-afab32eedf67",
     "showTitle": false,
     "title": ""
    }
   },
   "source": [
    "Let's see the content of this file:"
   ]
  },
  {
   "cell_type": "code",
   "execution_count": 0,
   "metadata": {
    "application/vnd.databricks.v1+cell": {
     "inputWidgets": {},
     "nuid": "2bde9a94-2e8b-495c-95cd-8347a1fb6061",
     "showTitle": false,
     "title": ""
    }
   },
   "outputs": [
    {
     "data": {
      "text/html": [
       "<style scoped>\n",
       "  .ansiout {\n",
       "    display: block;\n",
       "    unicode-bidi: embed;\n",
       "    white-space: pre-wrap;\n",
       "    word-wrap: break-word;\n",
       "    word-break: break-all;\n",
       "    font-family: \"Source Code Pro\", \"Menlo\", monospace;;\n",
       "    font-size: 13px;\n",
       "    color: #555;\n",
       "    margin-left: 4px;\n",
       "    line-height: 19px;\n",
       "  }\n",
       "</style>\n",
       "<div class=\"ansiout\">+--------------------------------------------------------------------------------+\n",
       "value                                                                           |\n",
       "+--------------------------------------------------------------------------------+\n",
       "                                                                                |\n",
       "The Project Gutenberg EBook of The History of Don Quixote by Miguel de Cervantes|\n",
       "                                                                                |\n",
       "This eBook is for the use of anyone anywhere at no cost and with                |\n",
       "almost no restrictions whatsoever.  You may copy it, give it away or            |\n",
       "re-use it under the terms of the Project Gutenberg License included             |\n",
       "with this eBook or online at www.gutenberg.org                                  |\n",
       "                                                                                |\n",
       "                                                                                |\n",
       "Title: The History of Don Quixote                                               |\n",
       "+--------------------------------------------------------------------------------+\n",
       "only showing top 10 rows\n",
       "\n",
       "</div>"
      ]
     },
     "metadata": {
      "application/vnd.databricks.v1+output": {
       "addedWidgets": {},
       "arguments": {},
       "data": "<div class=\"ansiout\">+--------------------------------------------------------------------------------+\n|value                                                                           |\n+--------------------------------------------------------------------------------+\n|                                                                                |\n|The Project Gutenberg EBook of The History of Don Quixote by Miguel de Cervantes|\n|                                                                                |\n|This eBook is for the use of anyone anywhere at no cost and with                |\n|almost no restrictions whatsoever.  You may copy it, give it away or            |\n|re-use it under the terms of the Project Gutenberg License included             |\n|with this eBook or online at www.gutenberg.org                                  |\n|                                                                                |\n|                                                                                |\n|Title: The History of Don Quixote                                               |\n+--------------------------------------------------------------------------------+\nonly showing top 10 rows\n\n</div>",
       "datasetInfos": [],
       "metadata": {},
       "removedWidgets": [],
       "type": "html"
      }
     },
     "output_type": "display_data"
    }
   ],
   "source": [
    "df_text.select(\"*\").show(10, False)"
   ]
  },
  {
   "cell_type": "code",
   "execution_count": 0,
   "metadata": {
    "application/vnd.databricks.v1+cell": {
     "inputWidgets": {},
     "nuid": "2f3d2b3d-a636-4dc9-9396-df9a19106113",
     "showTitle": false,
     "title": ""
    }
   },
   "outputs": [
    {
     "data": {
      "text/html": [
       "<style scoped>\n",
       "  .ansiout {\n",
       "    display: block;\n",
       "    unicode-bidi: embed;\n",
       "    white-space: pre-wrap;\n",
       "    word-wrap: break-word;\n",
       "    word-break: break-all;\n",
       "    font-family: \"Source Code Pro\", \"Menlo\", monospace;;\n",
       "    font-size: 13px;\n",
       "    color: #555;\n",
       "    margin-left: 4px;\n",
       "    line-height: 19px;\n",
       "  }\n",
       "</style>\n",
       "<div class=\"ansiout\">root\n",
       "-- value: string (nullable = true)\n",
       "\n",
       "</div>"
      ]
     },
     "metadata": {
      "application/vnd.databricks.v1+output": {
       "addedWidgets": {},
       "arguments": {},
       "data": "<div class=\"ansiout\">root\n |-- value: string (nullable = true)\n\n</div>",
       "datasetInfos": [],
       "metadata": {},
       "removedWidgets": [],
       "type": "html"
      }
     },
     "output_type": "display_data"
    }
   ],
   "source": [
    "df_text.printSchema()"
   ]
  },
  {
   "cell_type": "markdown",
   "metadata": {
    "application/vnd.databricks.v1+cell": {
     "inputWidgets": {},
     "nuid": "f47b6de9-5de2-4c29-90eb-d0a26b435b59",
     "showTitle": false,
     "title": ""
    }
   },
   "source": [
    "As you can see, there isn't much structure in that DataFrame. Spark has inferred a single column, as a string, and every row is a line of the text."
   ]
  },
  {
   "cell_type": "markdown",
   "metadata": {
    "application/vnd.databricks.v1+cell": {
     "inputWidgets": {},
     "nuid": "0a26a4b9-3dd2-4517-b81f-23d1baf50a90",
     "showTitle": false,
     "title": ""
    }
   },
   "source": [
    "As we did before, let's try to split this by blank space. To do so, we can use the `split` function from SparkSQL. This function takes two arguments: the column name where you want to apply the split, and the 'pattern' you want to use to split the string upon. This function returns an array of Column type. Similar to Column operations, this function needs to be used in conjunction with a transformation (e.g. `select`)."
   ]
  },
  {
   "cell_type": "code",
   "execution_count": 0,
   "metadata": {
    "application/vnd.databricks.v1+cell": {
     "inputWidgets": {},
     "nuid": "4e7549ce-4911-477c-a5a5-17f38f905fc4",
     "showTitle": false,
     "title": ""
    }
   },
   "outputs": [
    {
     "data": {
      "text/html": [
       "<style scoped>\n",
       "  .ansiout {\n",
       "    display: block;\n",
       "    unicode-bidi: embed;\n",
       "    white-space: pre-wrap;\n",
       "    word-wrap: break-word;\n",
       "    word-break: break-all;\n",
       "    font-family: \"Source Code Pro\", \"Menlo\", monospace;;\n",
       "    font-size: 13px;\n",
       "    color: #555;\n",
       "    margin-left: 4px;\n",
       "    line-height: 19px;\n",
       "  }\n",
       "</style>\n",
       "<div class=\"ansiout\">+-----------------------------------------------------------------------------------------------+\n",
       "split(value,  , -1)                                                                            |\n",
       "+-----------------------------------------------------------------------------------------------+\n",
       "[]                                                                                             |\n",
       "[The, Project, Gutenberg, EBook, of, The, History, of, Don, Quixote, by, Miguel, de, Cervantes]|\n",
       "[]                                                                                             |\n",
       "[This, eBook, is, for, the, use, of, anyone, anywhere, at, no, cost, and, with]                |\n",
       "[almost, no, restrictions, whatsoever., , You, may, copy, it,, give, it, away, or]             |\n",
       "[re-use, it, under, the, terms, of, the, Project, Gutenberg, License, included]                |\n",
       "[with, this, eBook, or, online, at, www.gutenberg.org]                                         |\n",
       "[]                                                                                             |\n",
       "[]                                                                                             |\n",
       "[Title:, The, History, of, Don, Quixote]                                                       |\n",
       "+-----------------------------------------------------------------------------------------------+\n",
       "only showing top 10 rows\n",
       "\n",
       "</div>"
      ]
     },
     "metadata": {
      "application/vnd.databricks.v1+output": {
       "addedWidgets": {},
       "arguments": {},
       "data": "<div class=\"ansiout\">+-----------------------------------------------------------------------------------------------+\n|split(value,  , -1)                                                                            |\n+-----------------------------------------------------------------------------------------------+\n|[]                                                                                             |\n|[The, Project, Gutenberg, EBook, of, The, History, of, Don, Quixote, by, Miguel, de, Cervantes]|\n|[]                                                                                             |\n|[This, eBook, is, for, the, use, of, anyone, anywhere, at, no, cost, and, with]                |\n|[almost, no, restrictions, whatsoever., , You, may, copy, it,, give, it, away, or]             |\n|[re-use, it, under, the, terms, of, the, Project, Gutenberg, License, included]                |\n|[with, this, eBook, or, online, at, www.gutenberg.org]                                         |\n|[]                                                                                             |\n|[]                                                                                             |\n|[Title:, The, History, of, Don, Quixote]                                                       |\n+-----------------------------------------------------------------------------------------------+\nonly showing top 10 rows\n\n</div>",
       "datasetInfos": [],
       "metadata": {},
       "removedWidgets": [],
       "type": "html"
      }
     },
     "output_type": "display_data"
    }
   ],
   "source": [
    "df_text.select(F.split(\"value\", \" \")) \\\n",
    "    .show(10, False)"
   ]
  },
  {
   "cell_type": "markdown",
   "metadata": {
    "application/vnd.databricks.v1+cell": {
     "inputWidgets": {},
     "nuid": "a2f85830-fbe5-43cc-81d4-688d7cf1f52a",
     "showTitle": false,
     "title": ""
    }
   },
   "source": [
    "We can now use `explode` to expand each one of the elements of the lists, so that, we create a Row for each element of the arrays in the column `value`. We will call the split function inside of the explode!"
   ]
  },
  {
   "cell_type": "code",
   "execution_count": 0,
   "metadata": {
    "application/vnd.databricks.v1+cell": {
     "inputWidgets": {},
     "nuid": "7b02f5ee-d828-4cd7-b281-42ea36510ac8",
     "showTitle": false,
     "title": ""
    }
   },
   "outputs": [
    {
     "data": {
      "text/html": [
       "<style scoped>\n",
       "  .ansiout {\n",
       "    display: block;\n",
       "    unicode-bidi: embed;\n",
       "    white-space: pre-wrap;\n",
       "    word-wrap: break-word;\n",
       "    word-break: break-all;\n",
       "    font-family: \"Source Code Pro\", \"Menlo\", monospace;;\n",
       "    font-size: 13px;\n",
       "    color: #555;\n",
       "    margin-left: 4px;\n",
       "    line-height: 19px;\n",
       "  }\n",
       "</style>\n",
       "<div class=\"ansiout\">+---------+\n",
       "      col|\n",
       "+---------+\n",
       "         |\n",
       "      The|\n",
       "  Project|\n",
       "Gutenberg|\n",
       "    EBook|\n",
       "       of|\n",
       "      The|\n",
       "  History|\n",
       "       of|\n",
       "      Don|\n",
       "+---------+\n",
       "only showing top 10 rows\n",
       "\n",
       "</div>"
      ]
     },
     "metadata": {
      "application/vnd.databricks.v1+output": {
       "addedWidgets": {},
       "arguments": {},
       "data": "<div class=\"ansiout\">+---------+\n|      col|\n+---------+\n|         |\n|      The|\n|  Project|\n|Gutenberg|\n|    EBook|\n|       of|\n|      The|\n|  History|\n|       of|\n|      Don|\n+---------+\nonly showing top 10 rows\n\n</div>",
       "datasetInfos": [],
       "metadata": {},
       "removedWidgets": [],
       "type": "html"
      }
     },
     "output_type": "display_data"
    }
   ],
   "source": [
    "df_text.select( \\\n",
    "      F.explode(F.split(\"value\", \" \")) \\\n",
    "    ).show(10)"
   ]
  },
  {
   "cell_type": "markdown",
   "metadata": {
    "application/vnd.databricks.v1+cell": {
     "inputWidgets": {},
     "nuid": "3610f2a3-f33c-4a99-9afa-cabc129cd427",
     "showTitle": false,
     "title": ""
    }
   },
   "source": [
    "We can use `alias()` to give a new name, e.g. `word`:"
   ]
  },
  {
   "cell_type": "code",
   "execution_count": 0,
   "metadata": {
    "application/vnd.databricks.v1+cell": {
     "inputWidgets": {},
     "nuid": "69095f25-1edd-4c70-a6e1-b0ca9229ee04",
     "showTitle": false,
     "title": ""
    }
   },
   "outputs": [
    {
     "data": {
      "text/html": [
       "<style scoped>\n",
       "  .ansiout {\n",
       "    display: block;\n",
       "    unicode-bidi: embed;\n",
       "    white-space: pre-wrap;\n",
       "    word-wrap: break-word;\n",
       "    word-break: break-all;\n",
       "    font-family: \"Source Code Pro\", \"Menlo\", monospace;;\n",
       "    font-size: 13px;\n",
       "    color: #555;\n",
       "    margin-left: 4px;\n",
       "    line-height: 19px;\n",
       "  }\n",
       "</style>\n",
       "<div class=\"ansiout\">+---------+\n",
       "     word|\n",
       "+---------+\n",
       "         |\n",
       "      The|\n",
       "  Project|\n",
       "Gutenberg|\n",
       "    EBook|\n",
       "       of|\n",
       "      The|\n",
       "  History|\n",
       "       of|\n",
       "      Don|\n",
       "+---------+\n",
       "only showing top 10 rows\n",
       "\n",
       "</div>"
      ]
     },
     "metadata": {
      "application/vnd.databricks.v1+output": {
       "addedWidgets": {},
       "arguments": {},
       "data": "<div class=\"ansiout\">+---------+\n|     word|\n+---------+\n|         |\n|      The|\n|  Project|\n|Gutenberg|\n|    EBook|\n|       of|\n|      The|\n|  History|\n|       of|\n|      Don|\n+---------+\nonly showing top 10 rows\n\n</div>",
       "datasetInfos": [],
       "metadata": {},
       "removedWidgets": [],
       "type": "html"
      }
     },
     "output_type": "display_data"
    }
   ],
   "source": [
    "df_text.select( \\\n",
    "        F.explode(F.split(\"value\", \" \")) \\\n",
    "        .alias(\"word\") \\\n",
    "    ).show(10)"
   ]
  },
  {
   "cell_type": "markdown",
   "metadata": {
    "application/vnd.databricks.v1+cell": {
     "inputWidgets": {},
     "nuid": "f5720e0f-06af-42b6-94ef-d3e9b2bebde1",
     "showTitle": false,
     "title": ""
    }
   },
   "source": [
    "Let's filter out empty words. That's very similar to what we did with RDDs."
   ]
  },
  {
   "cell_type": "code",
   "execution_count": 0,
   "metadata": {
    "application/vnd.databricks.v1+cell": {
     "inputWidgets": {},
     "nuid": "240ea47b-facd-4c21-8801-4a567d49cedc",
     "showTitle": false,
     "title": ""
    }
   },
   "outputs": [
    {
     "data": {
      "text/html": [
       "<style scoped>\n",
       "  .ansiout {\n",
       "    display: block;\n",
       "    unicode-bidi: embed;\n",
       "    white-space: pre-wrap;\n",
       "    word-wrap: break-word;\n",
       "    word-break: break-all;\n",
       "    font-family: \"Source Code Pro\", \"Menlo\", monospace;;\n",
       "    font-size: 13px;\n",
       "    color: #555;\n",
       "    margin-left: 4px;\n",
       "    line-height: 19px;\n",
       "  }\n",
       "</style>\n",
       "<div class=\"ansiout\">+---------+\n",
       "     word|\n",
       "+---------+\n",
       "      The|\n",
       "  Project|\n",
       "Gutenberg|\n",
       "    EBook|\n",
       "       of|\n",
       "      The|\n",
       "  History|\n",
       "       of|\n",
       "      Don|\n",
       "  Quixote|\n",
       "+---------+\n",
       "only showing top 10 rows\n",
       "\n",
       "</div>"
      ]
     },
     "metadata": {
      "application/vnd.databricks.v1+output": {
       "addedWidgets": {},
       "arguments": {},
       "data": "<div class=\"ansiout\">+---------+\n|     word|\n+---------+\n|      The|\n|  Project|\n|Gutenberg|\n|    EBook|\n|       of|\n|      The|\n|  History|\n|       of|\n|      Don|\n|  Quixote|\n+---------+\nonly showing top 10 rows\n\n</div>",
       "datasetInfos": [],
       "metadata": {},
       "removedWidgets": [],
       "type": "html"
      }
     },
     "output_type": "display_data"
    }
   ],
   "source": [
    "df_text.select( \\\n",
    "           F.explode(F.split(\"value\", \" \")) \\\n",
    "          .alias(\"word\")) \\\n",
    "      .filter(\"word != ''\") \\\n",
    "      .show(10)"
   ]
  },
  {
   "cell_type": "markdown",
   "metadata": {
    "application/vnd.databricks.v1+cell": {
     "inputWidgets": {},
     "nuid": "64730766-354c-49ce-9bf4-155ab908cac9",
     "showTitle": false,
     "title": ""
    }
   },
   "source": [
    "With RDDs, we needed to transform this into a tuple k,value. But with DataFrames, we can do the same operation by telling Spark which one is the attribute that will be used to group the DataFrame (i.e. the only column: `word`).\n",
    "We can use `groupBy`, but this is a transformation that allows us to perform aggregations, it needs to be used together with an aggregation operation like count, max, avg, etc."
   ]
  },
  {
   "cell_type": "code",
   "execution_count": 0,
   "metadata": {
    "application/vnd.databricks.v1+cell": {
     "inputWidgets": {},
     "nuid": "c21b4b39-c59c-4254-a3dc-5b9e537a1c45",
     "showTitle": false,
     "title": ""
    }
   },
   "outputs": [
    {
     "data": {
      "text/html": [
       "<style scoped>\n",
       "  .ansiout {\n",
       "    display: block;\n",
       "    unicode-bidi: embed;\n",
       "    white-space: pre-wrap;\n",
       "    word-wrap: break-word;\n",
       "    word-break: break-all;\n",
       "    font-family: \"Source Code Pro\", \"Menlo\", monospace;;\n",
       "    font-size: 13px;\n",
       "    color: #555;\n",
       "    margin-left: 4px;\n",
       "    line-height: 19px;\n",
       "  }\n",
       "</style>\n",
       "<div class=\"ansiout\">Out[42]: DataFrame[word: string, count: bigint]</div>"
      ]
     },
     "metadata": {
      "application/vnd.databricks.v1+output": {
       "addedWidgets": {},
       "arguments": {},
       "data": "<div class=\"ansiout\">Out[42]: DataFrame[word: string, count: bigint]</div>",
       "datasetInfos": [],
       "metadata": {},
       "removedWidgets": [],
       "type": "html"
      }
     },
     "output_type": "display_data"
    }
   ],
   "source": [
    "df_text.select( \\\n",
    "              F.explode(F.split(\"value\", \" \")) \\\n",
    "              .alias(\"word\")) \\\n",
    "        .filter(\"word != ''\") \\\n",
    "        .groupBy(\"word\").count() "
   ]
  },
  {
   "cell_type": "markdown",
   "metadata": {
    "application/vnd.databricks.v1+cell": {
     "inputWidgets": {},
     "nuid": "0280f607-2aa6-47e2-b995-ec6340364b28",
     "showTitle": false,
     "title": ""
    }
   },
   "source": [
    "Oh, we didn't get the word count, why? the method `count` as an aggregation is NOT an action! but a transformation. We still need to take it back to the driver program, by using `collect` or `show`."
   ]
  },
  {
   "cell_type": "code",
   "execution_count": 0,
   "metadata": {
    "application/vnd.databricks.v1+cell": {
     "inputWidgets": {},
     "nuid": "ae1240b0-4eb3-4f3a-8cc8-5aa137944141",
     "showTitle": false,
     "title": ""
    }
   },
   "outputs": [
    {
     "data": {
      "text/html": [
       "<style scoped>\n",
       "  .ansiout {\n",
       "    display: block;\n",
       "    unicode-bidi: embed;\n",
       "    white-space: pre-wrap;\n",
       "    word-wrap: break-word;\n",
       "    word-break: break-all;\n",
       "    font-family: \"Source Code Pro\", \"Menlo\", monospace;;\n",
       "    font-size: 13px;\n",
       "    color: #555;\n",
       "    margin-left: 4px;\n",
       "    line-height: 19px;\n",
       "  }\n",
       "</style>\n",
       "<div class=\"ansiout\">+----------+-----+\n",
       "      word|count|\n",
       "+----------+-----+\n",
       "    online|    4|\n",
       "      July|    1|\n",
       "    CASTLE|    8|\n",
       "      XVII|    2|\n",
       "      AWAY|    2|\n",
       "      hope|   65|\n",
       "     those|  652|\n",
       "       few|   79|\n",
       "Duffield’s|    1|\n",
       "  everyday|    3|\n",
       "+----------+-----+\n",
       "only showing top 10 rows\n",
       "\n",
       "</div>"
      ]
     },
     "metadata": {
      "application/vnd.databricks.v1+output": {
       "addedWidgets": {},
       "arguments": {},
       "data": "<div class=\"ansiout\">+----------+-----+\n|      word|count|\n+----------+-----+\n|    online|    4|\n|      July|    1|\n|    CASTLE|    8|\n|      XVII|    2|\n|      AWAY|    2|\n|      hope|   65|\n|     those|  652|\n|       few|   79|\n|Duffield’s|    1|\n|  everyday|    3|\n+----------+-----+\nonly showing top 10 rows\n\n</div>",
       "datasetInfos": [],
       "metadata": {},
       "removedWidgets": [],
       "type": "html"
      }
     },
     "output_type": "display_data"
    }
   ],
   "source": [
    "df_text.select( \\\n",
    "              F.explode(F.split(\"value\", \" \")) \\\n",
    "              .alias(\"word\")) \\\n",
    "        .filter(\"word != ''\") \\\n",
    "        .groupBy(\"word\").count().show(10)"
   ]
  },
  {
   "cell_type": "markdown",
   "metadata": {
    "application/vnd.databricks.v1+cell": {
     "inputWidgets": {},
     "nuid": "94ccb327-266d-4f98-8f15-0e0c29a99e74",
     "showTitle": false,
     "title": ""
    }
   },
   "source": [
    "The output is not quite there yet, we wanted this to be in descending order. What we could do is to transform that aggregated DataFrame using `sort` (or `OrderBy`).  To use `sort`, we need to indicate the column in which we want to apply the operation (i.e. `count`), and we also want to do it in descending order. You could do this in different ways:\n",
    "\n",
    "`.sort(df.count.desc())`  or `sort(desc(\"count\"))`, or `sort(\"count\", ascending=False)`."
   ]
  },
  {
   "cell_type": "code",
   "execution_count": 0,
   "metadata": {
    "application/vnd.databricks.v1+cell": {
     "inputWidgets": {},
     "nuid": "04cfba82-5bff-4f3a-98f8-c32e92cf04cc",
     "showTitle": false,
     "title": ""
    }
   },
   "outputs": [
    {
     "data": {
      "text/html": [
       "<style scoped>\n",
       "  .ansiout {\n",
       "    display: block;\n",
       "    unicode-bidi: embed;\n",
       "    white-space: pre-wrap;\n",
       "    word-wrap: break-word;\n",
       "    word-break: break-all;\n",
       "    font-family: \"Source Code Pro\", \"Menlo\", monospace;;\n",
       "    font-size: 13px;\n",
       "    color: #555;\n",
       "    margin-left: 4px;\n",
       "    line-height: 19px;\n",
       "  }\n",
       "</style>\n",
       "<div class=\"ansiout\">+----+-----+\n",
       "word|count|\n",
       "+----+-----+\n",
       " the|20923|\n",
       " and|16606|\n",
       "  to|13492|\n",
       "  of|12866|\n",
       "that| 7164|\n",
       "   a| 7003|\n",
       "  in| 6860|\n",
       "   I| 5756|\n",
       "  he| 5640|\n",
       " for| 4534|\n",
       "+----+-----+\n",
       "only showing top 10 rows\n",
       "\n",
       "</div>"
      ]
     },
     "metadata": {
      "application/vnd.databricks.v1+output": {
       "addedWidgets": {},
       "arguments": {},
       "data": "<div class=\"ansiout\">+----+-----+\n|word|count|\n+----+-----+\n| the|20923|\n| and|16606|\n|  to|13492|\n|  of|12866|\n|that| 7164|\n|   a| 7003|\n|  in| 6860|\n|   I| 5756|\n|  he| 5640|\n| for| 4534|\n+----+-----+\nonly showing top 10 rows\n\n</div>",
       "datasetInfos": [],
       "metadata": {},
       "removedWidgets": [],
       "type": "html"
      }
     },
     "output_type": "display_data"
    }
   ],
   "source": [
    "df_text.select( \\\n",
    "              F.explode(F.split(\"value\", \" \")) \\\n",
    "              .alias(\"word\")) \\\n",
    "        .filter(\"word != ''\") \\\n",
    "        .groupBy(\"word\").count() \\\n",
    "        .sort(F.desc(\"count\")) \\\n",
    "        .show(10)"
   ]
  },
  {
   "cell_type": "markdown",
   "metadata": {
    "application/vnd.databricks.v1+cell": {
     "inputWidgets": {},
     "nuid": "4840b75b-f48d-4752-bd9b-70cbfc69b18b",
     "showTitle": false,
     "title": ""
    }
   },
   "source": [
    "Don't forget to unpersist your DataFrame"
   ]
  },
  {
   "cell_type": "code",
   "execution_count": 0,
   "metadata": {
    "application/vnd.databricks.v1+cell": {
     "inputWidgets": {},
     "nuid": "68d8c80b-3494-4153-a5a9-082173dc42f8",
     "showTitle": false,
     "title": ""
    }
   },
   "outputs": [
    {
     "data": {
      "text/html": [
       "<style scoped>\n",
       "  .ansiout {\n",
       "    display: block;\n",
       "    unicode-bidi: embed;\n",
       "    white-space: pre-wrap;\n",
       "    word-wrap: break-word;\n",
       "    word-break: break-all;\n",
       "    font-family: \"Source Code Pro\", \"Menlo\", monospace;;\n",
       "    font-size: 13px;\n",
       "    color: #555;\n",
       "    margin-left: 4px;\n",
       "    line-height: 19px;\n",
       "  }\n",
       "</style>\n",
       "<div class=\"ansiout\">Out[45]: DataFrame[value: string]</div>"
      ]
     },
     "metadata": {
      "application/vnd.databricks.v1+output": {
       "addedWidgets": {},
       "arguments": {},
       "data": "<div class=\"ansiout\">Out[45]: DataFrame[value: string]</div>",
       "datasetInfos": [],
       "metadata": {},
       "removedWidgets": [],
       "type": "html"
      }
     },
     "output_type": "display_data"
    }
   ],
   "source": [
    "df_text.unpersist()"
   ]
  },
  {
   "cell_type": "markdown",
   "metadata": {
    "application/vnd.databricks.v1+cell": {
     "inputWidgets": {},
     "nuid": "7ca13447-ced5-424d-8fa4-b6a5e95cb121",
     "showTitle": false,
     "title": ""
    }
   },
   "source": [
    "### Additional challenge:"
   ]
  },
  {
   "cell_type": "markdown",
   "metadata": {
    "application/vnd.databricks.v1+cell": {
     "inputWidgets": {},
     "nuid": "4f41309c-c04a-4bcc-98fa-f36829cdaf9b",
     "showTitle": false,
     "title": ""
    }
   },
   "source": [
    "If you were to remove any punctuation marks, you need a function to correct all sentences."
   ]
  },
  {
   "cell_type": "code",
   "execution_count": 0,
   "metadata": {
    "application/vnd.databricks.v1+cell": {
     "inputWidgets": {},
     "nuid": "c8c96a83-e93c-4a0e-a380-6ee26abf1b39",
     "showTitle": false,
     "title": ""
    }
   },
   "outputs": [
    {
     "data": {
      "text/html": [
       "<style scoped>\n",
       "  .ansiout {\n",
       "    display: block;\n",
       "    unicode-bidi: embed;\n",
       "    white-space: pre-wrap;\n",
       "    word-wrap: break-word;\n",
       "    word-break: break-all;\n",
       "    font-family: \"Source Code Pro\", \"Menlo\", monospace;;\n",
       "    font-size: 13px;\n",
       "    color: #555;\n",
       "    margin-left: 4px;\n",
       "    line-height: 19px;\n",
       "  }\n",
       "</style>\n",
       "<div class=\"ansiout\"></div>"
      ]
     },
     "metadata": {
      "application/vnd.databricks.v1+output": {
       "addedWidgets": {},
       "arguments": {},
       "data": "<div class=\"ansiout\"></div>",
       "datasetInfos": [],
       "metadata": {},
       "removedWidgets": [],
       "type": "html"
      }
     },
     "output_type": "display_data"
    }
   ],
   "source": [
    "def remove_punctuation(column):\n",
    "    return F.lower(F.trim(F.regexp_replace(column, r'[^0-9a-zA-ZñÑáéíóúÁÉÍÓÚ ]+', ''))).alias('value')"
   ]
  },
  {
   "cell_type": "markdown",
   "metadata": {
    "application/vnd.databricks.v1+cell": {
     "inputWidgets": {},
     "nuid": "8b5295e0-4bb3-4591-a439-3531e2341e91",
     "showTitle": false,
     "title": ""
    }
   },
   "source": [
    "Let's test it:"
   ]
  },
  {
   "cell_type": "code",
   "execution_count": 0,
   "metadata": {
    "application/vnd.databricks.v1+cell": {
     "inputWidgets": {},
     "nuid": "3a87ae7b-4f44-4495-b9f0-43a804050356",
     "showTitle": false,
     "title": ""
    }
   },
   "outputs": [
    {
     "data": {
      "text/html": [
       "<style scoped>\n",
       "  .ansiout {\n",
       "    display: block;\n",
       "    unicode-bidi: embed;\n",
       "    white-space: pre-wrap;\n",
       "    word-wrap: break-word;\n",
       "    word-break: break-all;\n",
       "    font-family: \"Source Code Pro\", \"Menlo\", monospace;;\n",
       "    font-size: 13px;\n",
       "    color: #555;\n",
       "    margin-left: 4px;\n",
       "    line-height: 19px;\n",
       "  }\n",
       "</style>\n",
       "<div class=\"ansiout\"></div>"
      ]
     },
     "metadata": {
      "application/vnd.databricks.v1+output": {
       "addedWidgets": {},
       "arguments": {},
       "data": "<div class=\"ansiout\"></div>",
       "datasetInfos": [],
       "metadata": {},
       "removedWidgets": [],
       "type": "html"
      }
     },
     "output_type": "display_data"
    }
   ],
   "source": [
    "sentence = spark.createDataFrame([(u'Hello!, how is it going?',),\n",
    "                                         (u' removing underscore_!',),\n",
    "                                         (u' *      Removing punctuation and blank spaces  * ,',)], ['sentence'])"
   ]
  },
  {
   "cell_type": "code",
   "execution_count": 0,
   "metadata": {
    "application/vnd.databricks.v1+cell": {
     "inputWidgets": {},
     "nuid": "eecfc18c-1c0a-4c9c-955b-6c463d54377b",
     "showTitle": false,
     "title": ""
    }
   },
   "outputs": [
    {
     "data": {
      "text/html": [
       "<style scoped>\n",
       "  .ansiout {\n",
       "    display: block;\n",
       "    unicode-bidi: embed;\n",
       "    white-space: pre-wrap;\n",
       "    word-wrap: break-word;\n",
       "    word-break: break-all;\n",
       "    font-family: \"Source Code Pro\", \"Menlo\", monospace;;\n",
       "    font-size: 13px;\n",
       "    color: #555;\n",
       "    margin-left: 4px;\n",
       "    line-height: 19px;\n",
       "  }\n",
       "</style>\n",
       "<div class=\"ansiout\">+--------------------------------------------------+\n",
       "sentence                                          |\n",
       "+--------------------------------------------------+\n",
       "Hello!, how is it going?                          |\n",
       " removing underscore_!                            |\n",
       " *      Removing punctuation and blank spaces  * ,|\n",
       "+--------------------------------------------------+\n",
       "\n",
       "</div>"
      ]
     },
     "metadata": {
      "application/vnd.databricks.v1+output": {
       "addedWidgets": {},
       "arguments": {},
       "data": "<div class=\"ansiout\">+--------------------------------------------------+\n|sentence                                          |\n+--------------------------------------------------+\n|Hello!, how is it going?                          |\n| removing underscore_!                            |\n| *      Removing punctuation and blank spaces  * ,|\n+--------------------------------------------------+\n\n</div>",
       "datasetInfos": [],
       "metadata": {},
       "removedWidgets": [],
       "type": "html"
      }
     },
     "output_type": "display_data"
    }
   ],
   "source": [
    "sentence.show(truncate=False)"
   ]
  },
  {
   "cell_type": "markdown",
   "metadata": {
    "application/vnd.databricks.v1+cell": {
     "inputWidgets": {},
     "nuid": "2c205a8a-f5bd-4bb0-b97a-38327f698ce8",
     "showTitle": false,
     "title": ""
    }
   },
   "source": [
    "We can simply transform the DataFrame with that function applying the function to the column."
   ]
  },
  {
   "cell_type": "code",
   "execution_count": 0,
   "metadata": {
    "application/vnd.databricks.v1+cell": {
     "inputWidgets": {},
     "nuid": "d2f5f37d-ba20-43e3-aedd-3ad81f24645d",
     "showTitle": false,
     "title": ""
    }
   },
   "outputs": [
    {
     "data": {
      "text/html": [
       "<style scoped>\n",
       "  .ansiout {\n",
       "    display: block;\n",
       "    unicode-bidi: embed;\n",
       "    white-space: pre-wrap;\n",
       "    word-wrap: break-word;\n",
       "    word-break: break-all;\n",
       "    font-family: \"Source Code Pro\", \"Menlo\", monospace;;\n",
       "    font-size: 13px;\n",
       "    color: #555;\n",
       "    margin-left: 4px;\n",
       "    line-height: 19px;\n",
       "  }\n",
       "</style>\n",
       "<div class=\"ansiout\">+-------------------------------------+\n",
       "value                                |\n",
       "+-------------------------------------+\n",
       "hello how is it going                |\n",
       "removing underscore                  |\n",
       "removing punctuation and blank spaces|\n",
       "+-------------------------------------+\n",
       "\n",
       "</div>"
      ]
     },
     "metadata": {
      "application/vnd.databricks.v1+output": {
       "addedWidgets": {},
       "arguments": {},
       "data": "<div class=\"ansiout\">+-------------------------------------+\n|value                                |\n+-------------------------------------+\n|hello how is it going                |\n|removing underscore                  |\n|removing punctuation and blank spaces|\n+-------------------------------------+\n\n</div>",
       "datasetInfos": [],
       "metadata": {},
       "removedWidgets": [],
       "type": "html"
      }
     },
     "output_type": "display_data"
    }
   ],
   "source": [
    "sentence.select(remove_punctuation(F.col(\"sentence\"))).show(truncate = False)"
   ]
  },
  {
   "cell_type": "markdown",
   "metadata": {
    "application/vnd.databricks.v1+cell": {
     "inputWidgets": {},
     "nuid": "7fa51099-512a-4ba0-8f10-c11ba0417944",
     "showTitle": false,
     "title": ""
    },
    "deletable": false,
    "editable": false,
    "nbgrader": {
     "cell_type": "markdown",
     "checksum": "7c15f07906bb1fd48a51d1ce7427b1fa",
     "grade": false,
     "grade_id": "cell-024c26d2f51c3d48",
     "locked": true,
     "schema_version": 3,
     "solution": false,
     "task": false
    }
   },
   "source": [
    "Putting this into our word count function:"
   ]
  },
  {
   "cell_type": "code",
   "execution_count": 0,
   "metadata": {
    "application/vnd.databricks.v1+cell": {
     "inputWidgets": {},
     "nuid": "43cfaaa7-957d-4d8a-88e7-f65b600ae19e",
     "showTitle": false,
     "title": ""
    },
    "deletable": false,
    "nbgrader": {
     "cell_type": "code",
     "checksum": "b9428c200908e5651b29090770e57f7e",
     "grade": true,
     "grade_id": "cell-d9afc18d9f1004e1",
     "locked": false,
     "points": 0,
     "schema_version": 3,
     "solution": true,
     "task": false
    }
   },
   "outputs": [
    {
     "data": {
      "text/html": [
       "<style scoped>\n",
       "  .ansiout {\n",
       "    display: block;\n",
       "    unicode-bidi: embed;\n",
       "    white-space: pre-wrap;\n",
       "    word-wrap: break-word;\n",
       "    word-break: break-all;\n",
       "    font-family: \"Source Code Pro\", \"Menlo\", monospace;;\n",
       "    font-size: 13px;\n",
       "    color: #555;\n",
       "    margin-left: 4px;\n",
       "    line-height: 19px;\n",
       "  }\n",
       "</style>\n",
       "<div class=\"ansiout\">+----+-----+\n",
       "word|count|\n",
       "+----+-----+\n",
       " the|22455|\n",
       " and|17644|\n",
       "  to|13893|\n",
       "  of|13468|\n",
       "that| 7899|\n",
       "  in| 7315|\n",
       "   a| 7165|\n",
       "   i| 6354|\n",
       "  he| 6137|\n",
       "  it| 5593|\n",
       "+----+-----+\n",
       "only showing top 10 rows\n",
       "\n",
       "</div>"
      ]
     },
     "metadata": {
      "application/vnd.databricks.v1+output": {
       "addedWidgets": {},
       "arguments": {},
       "data": "<div class=\"ansiout\">+----+-----+\n|word|count|\n+----+-----+\n| the|22455|\n| and|17644|\n|  to|13893|\n|  of|13468|\n|that| 7899|\n|  in| 7315|\n|   a| 7165|\n|   i| 6354|\n|  he| 6137|\n|  it| 5593|\n+----+-----+\nonly showing top 10 rows\n\n</div>",
       "datasetInfos": [],
       "metadata": {},
       "removedWidgets": [],
       "type": "html"
      }
     },
     "output_type": "display_data"
    }
   ],
   "source": [
    "def enhanced_word_count(file_path):\n",
    "    df_text = spark.read.text(file_path)\n",
    "    df_text = df_text.select(remove_punctuation(F.col(\"value\")))\n",
    "    df_text = df_text.select( \\\n",
    "              F.explode(F.split(\"value\", \" \")) \\\n",
    "              .alias(\"word\")) \\\n",
    "        .filter(\"word != ''\") \\\n",
    "        .groupBy(\"word\").count() \\\n",
    "        .sort(F.desc(\"count\")) \\\n",
    "        .show(10)\n",
    "        \n",
    "        \n",
    "enhanced_word_count(\"/mnt/nogroup/data/quixote.txt\")"
   ]
  },
  {
   "cell_type": "markdown",
   "metadata": {
    "application/vnd.databricks.v1+cell": {
     "inputWidgets": {},
     "nuid": "c454cf6e-697e-4e55-8c39-fbf03a49baa6",
     "showTitle": false,
     "title": ""
    },
    "deletable": false,
    "editable": false,
    "nbgrader": {
     "cell_type": "markdown",
     "checksum": "8e5f4cfcbfbf94108fc6b671ab7c9a3d",
     "grade": false,
     "grade_id": "cell-cd1ed4f3427ea1cd",
     "locked": true,
     "schema_version": 3,
     "solution": false,
     "task": false
    }
   },
   "source": [
    "## Exercise 1. Histogram of word repetition\n",
    "\n",
    "Provide a histogram of word repetitions, that is, the number of words that are repeated X times:\n",
    "\n",
    "* 1 time - 3 words\n",
    "* 2 times - 10 words\n",
    "* 3 times, 20 words\n",
    "...\n",
    "\n",
    "You are asked to implement a `histogram_reps(file_path)` function in Spark that **must not** use the function `word_count(file_path)`, but it could use part of the code you did before. All the processing must be done with **DataFrames**, and there should be a single `collect()` at the end to return a list. The list must be ordered by the number of times.\n",
    "\n",
    "**Input**: The path to a text file\n",
    "\n",
    "**Output**: (number of repetitions, number of words)\n",
    "\n",
    "                                                                                                       [30 marks]"
   ]
  },
  {
   "cell_type": "code",
   "execution_count": 0,
   "metadata": {
    "application/vnd.databricks.v1+cell": {
     "inputWidgets": {},
     "nuid": "114b1b8f-74a5-4cb7-8c58-7d4e323c8bc1",
     "showTitle": false,
     "title": ""
    },
    "deletable": false,
    "nbgrader": {
     "cell_type": "code",
     "checksum": "96c253124c1be82aba643bfcb5bdac48",
     "grade": false,
     "grade_id": "cell-38476d16f40954cd",
     "locked": false,
     "schema_version": 3,
     "solution": true,
     "task": false
    }
   },
   "outputs": [
    {
     "data": {
      "text/html": [
       "<style scoped>\n",
       "  .ansiout {\n",
       "    display: block;\n",
       "    unicode-bidi: embed;\n",
       "    white-space: pre-wrap;\n",
       "    word-wrap: break-word;\n",
       "    word-break: break-all;\n",
       "    font-family: \"Source Code Pro\", \"Menlo\", monospace;;\n",
       "    font-size: 13px;\n",
       "    color: #555;\n",
       "    margin-left: 4px;\n",
       "    line-height: 19px;\n",
       "  }\n",
       "</style>\n",
       "<div class=\"ansiout\">Out[145]: [Row(Frequency=1, words=17817),\n",
       " Row(Frequency=2, words=5146),\n",
       " Row(Frequency=3, words=2291),\n",
       " Row(Frequency=4, words=1520),\n",
       " Row(Frequency=5, words=998),\n",
       " Row(Frequency=6, words=737),\n",
       " Row(Frequency=7, words=589),\n",
       " Row(Frequency=8, words=439),\n",
       " Row(Frequency=9, words=333),\n",
       " Row(Frequency=10, words=288),\n",
       " Row(Frequency=11, words=227),\n",
       " Row(Frequency=12, words=216),\n",
       " Row(Frequency=13, words=184),\n",
       " Row(Frequency=14, words=199),\n",
       " Row(Frequency=15, words=143),\n",
       " Row(Frequency=16, words=128),\n",
       " Row(Frequency=17, words=109),\n",
       " Row(Frequency=18, words=97),\n",
       " Row(Frequency=19, words=91),\n",
       " Row(Frequency=20, words=90)]</div>"
      ]
     },
     "metadata": {
      "application/vnd.databricks.v1+output": {
       "addedWidgets": {},
       "arguments": {},
       "data": "<div class=\"ansiout\">Out[145]: [Row(Frequency=1, words=17817),\n Row(Frequency=2, words=5146),\n Row(Frequency=3, words=2291),\n Row(Frequency=4, words=1520),\n Row(Frequency=5, words=998),\n Row(Frequency=6, words=737),\n Row(Frequency=7, words=589),\n Row(Frequency=8, words=439),\n Row(Frequency=9, words=333),\n Row(Frequency=10, words=288),\n Row(Frequency=11, words=227),\n Row(Frequency=12, words=216),\n Row(Frequency=13, words=184),\n Row(Frequency=14, words=199),\n Row(Frequency=15, words=143),\n Row(Frequency=16, words=128),\n Row(Frequency=17, words=109),\n Row(Frequency=18, words=97),\n Row(Frequency=19, words=91),\n Row(Frequency=20, words=90)]</div>",
       "datasetInfos": [],
       "metadata": {},
       "removedWidgets": [],
       "type": "html"
      }
     },
     "output_type": "display_data"
    }
   ],
   "source": [
    "def histogram_reps(file_path):\n",
    "  df_text = spark.read.text(file_path)\n",
    "  output = df_text.select( \\\n",
    "           F.explode(F.split(\"value\", \" \")) \\\n",
    "            .alias(\"word\")) \\\n",
    "            .filter(\"word != ''\") \\\n",
    "            .groupBy(\"word\").count() \\\n",
    "            .withColumnRenamed(\"count\", \"Frequency\") \\\n",
    "            .groupBy(\"Frequency\").count().withColumnRenamed(\"count\", \"words\") \\\n",
    "            .sort(\"Frequency\")\n",
    "  \n",
    "  return output.collect()\n",
    "  \n",
    "histogram_reps('/mnt/nogroup/data/quixote.txt')[:20] # look at the first 20 results    "
   ]
  },
  {
   "cell_type": "code",
   "execution_count": 0,
   "metadata": {
    "application/vnd.databricks.v1+cell": {
     "inputWidgets": {},
     "nuid": "93b1106b-a2a5-446a-ab5b-d9e0bc419856",
     "showTitle": false,
     "title": ""
    },
    "deletable": false,
    "editable": false,
    "nbgrader": {
     "cell_type": "code",
     "checksum": "a544c7eef583dce482f2602922816325",
     "grade": true,
     "grade_id": "cell-bdde40e488c56163",
     "locked": true,
     "points": 0,
     "schema_version": 3,
     "solution": false,
     "task": false
    }
   },
   "outputs": [
    {
     "data": {
      "text/html": [
       "<style scoped>\n",
       "  .ansiout {\n",
       "    display: block;\n",
       "    unicode-bidi: embed;\n",
       "    white-space: pre-wrap;\n",
       "    word-wrap: break-word;\n",
       "    word-break: break-all;\n",
       "    font-family: \"Source Code Pro\", \"Menlo\", monospace;;\n",
       "    font-size: 13px;\n",
       "    color: #555;\n",
       "    margin-left: 4px;\n",
       "    line-height: 19px;\n",
       "  }\n",
       "</style>\n",
       "<div class=\"ansiout\">1 test passed.\n",
       "</div>"
      ]
     },
     "metadata": {
      "application/vnd.databricks.v1+output": {
       "addedWidgets": {},
       "arguments": {},
       "data": "<div class=\"ansiout\">1 test passed.\n</div>",
       "datasetInfos": [],
       "metadata": {},
       "removedWidgets": [],
       "type": "html"
      }
     },
     "output_type": "display_data"
    }
   ],
   "source": [
    "hist_quixote = histogram_reps(\"/mnt/nogroup/data/quixote.txt\")\n",
    "test(hist_quixote[:10],[(1, 17817), (2, 5146), (3, 2291), (4, 1520), \n",
    "                                     (5, 998), (6, 737), (7, 589), (8, 439), (9, 333), (10, 288)], \"Try again!\")"
   ]
  },
  {
   "cell_type": "markdown",
   "metadata": {
    "application/vnd.databricks.v1+cell": {
     "inputWidgets": {},
     "nuid": "4edcfaaf-aada-4202-a1c8-4fcaaafb8100",
     "showTitle": false,
     "title": ""
    }
   },
   "source": [
    "You could plot this with the matplotlib library:"
   ]
  },
  {
   "cell_type": "code",
   "execution_count": 0,
   "metadata": {
    "application/vnd.databricks.v1+cell": {
     "inputWidgets": {},
     "nuid": "b6a31efe-36d0-47fc-89e4-268193f440d4",
     "showTitle": false,
     "title": ""
    }
   },
   "outputs": [
    {
     "data": {
      "image/png": "[encoded data removed]"
     },
     "metadata": {
      "application/vnd.databricks.v1+output": {
       "addedWidgets": {},
       "arguments": {},
       "data": "data:image/png;base64,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",
       "datasetInfos": [],
       "metadata": {
        "imageDimensions": {
         "height": 278,
         "width": 401
        }
       },
       "removedWidgets": [],
       "type": "image"
      },
      "image/png": {
       "height": 278,
       "width": 401
      }
     },
     "output_type": "display_data"
    }
   ],
   "source": [
    "(x_values, y_values) = zip(*hist_quixote[:10])\n",
    "plt.bar(x_values, y_values)\n",
    "plt.title('Histogram of repetitions (up to 10)')\n",
    "plt.xlabel('Number of repetitions')\n",
    "plt.ylabel('Number of words')\n",
    "plt.show()"
   ]
  },
  {
   "cell_type": "markdown",
   "metadata": {
    "application/vnd.databricks.v1+cell": {
     "inputWidgets": {},
     "nuid": "f60c6777-4b90-4e26-9464-f0eb061a9ed2",
     "showTitle": false,
     "title": ""
    },
    "deletable": false,
    "editable": false,
    "nbgrader": {
     "cell_type": "markdown",
     "checksum": "dc16f0ec55f3c445756d2dfdb8ad91a4",
     "grade": false,
     "grade_id": "cell-5f7c2d07ff5e0889",
     "locked": true,
     "schema_version": 3,
     "solution": false,
     "task": false
    }
   },
   "source": [
    "## Exercise 2. Histogram of the length of the words\n",
    "\n",
    "\n",
    "Provide a histogram of the length of the words. Word repetition is not a problem, so if you have the word 'bye' twice in your document, you would add 2 to the number of words of length 3.\n",
    "\n",
    "* Length 1 - 100 times\n",
    "* Length 2 - 300 times\n",
    "* Length 3 - 400 times\n",
    "...\n",
    "\n",
    "You are asked to implement a `histogram_length(file_path)` function in Spark. All the processing must be done with **DataFrames**, and there should be a single `collect()` at the end to return a list. The list must be ordered by the length of the words.\n",
    "\n",
    "**Input**: A text document or multiple text documents\n",
    "\n",
    "**Output**: (Length, number of words)\n",
    "\n",
    "**Note: We are going to assume that the maximum word length is 16 characters, so anything above that shouldn't appear in the result.**\n",
    "\n",
    "                                                                                                       [30 marks]"
   ]
  },
  {
   "cell_type": "code",
   "execution_count": 0,
   "metadata": {
    "application/vnd.databricks.v1+cell": {
     "inputWidgets": {},
     "nuid": "fa508d62-2d31-4c87-ac5f-18b94090b367",
     "showTitle": false,
     "title": ""
    },
    "deletable": false,
    "nbgrader": {
     "cell_type": "code",
     "checksum": "efee1ed48b1a2144673c4af16a59233b",
     "grade": false,
     "grade_id": "cell-7cccb15c1a1e97fb",
     "locked": false,
     "schema_version": 3,
     "solution": true,
     "task": false
    }
   },
   "outputs": [
    {
     "data": {
      "text/html": [
       "<style scoped>\n",
       "  .ansiout {\n",
       "    display: block;\n",
       "    unicode-bidi: embed;\n",
       "    white-space: pre-wrap;\n",
       "    word-wrap: break-word;\n",
       "    word-break: break-all;\n",
       "    font-family: \"Source Code Pro\", \"Menlo\", monospace;;\n",
       "    font-size: 13px;\n",
       "    color: #555;\n",
       "    margin-left: 4px;\n",
       "    line-height: 19px;\n",
       "  }\n",
       "</style>\n",
       "<div class=\"ansiout\">Out[206]: [Row(len=1, count=12978),\n",
       " Row(len=2, count=80003),\n",
       " Row(len=3, count=98414),\n",
       " Row(len=4, count=80717),\n",
       " Row(len=5, count=45809),\n",
       " Row(len=6, count=33672),\n",
       " Row(len=7, count=30995),\n",
       " Row(len=8, count=19570),\n",
       " Row(len=9, count=12350),\n",
       " Row(len=10, count=7929),\n",
       " Row(len=11, count=3849),\n",
       " Row(len=12, count=2043),\n",
       " Row(len=13, count=963),\n",
       " Row(len=14, count=539),\n",
       " Row(len=15, count=251),\n",
       " Row(len=16, count=110)]</div>"
      ]
     },
     "metadata": {
      "application/vnd.databricks.v1+output": {
       "addedWidgets": {},
       "arguments": {},
       "data": "<div class=\"ansiout\">Out[206]: [Row(len=1, count=12978),\n Row(len=2, count=80003),\n Row(len=3, count=98414),\n Row(len=4, count=80717),\n Row(len=5, count=45809),\n Row(len=6, count=33672),\n Row(len=7, count=30995),\n Row(len=8, count=19570),\n Row(len=9, count=12350),\n Row(len=10, count=7929),\n Row(len=11, count=3849),\n Row(len=12, count=2043),\n Row(len=13, count=963),\n Row(len=14, count=539),\n Row(len=15, count=251),\n Row(len=16, count=110)]</div>",
       "datasetInfos": [],
       "metadata": {},
       "removedWidgets": [],
       "type": "html"
      }
     },
     "output_type": "display_data"
    }
   ],
   "source": [
    "def histogram_length(file_path):\n",
    "  df = spark.read.text(file_path)\n",
    "  output = df.select(F.explode(F.split(\"value\",\" \" )).alias(\"word\"), F.length(\"word\").alias(\"len\"))\\\n",
    "              .filter(\"word != ''\")\\\n",
    "              .filter(\"len <= 16\")\\\n",
    "              .groupBy(\"len\").count()\\\n",
    "              .sort(F.asc(\"len\"))\\\n",
    "              .collect()\n",
    "  return output\n",
    "  \n",
    "histogram_length(\"/mnt/nogroup/data/quixote.txt\")  "
   ]
  },
  {
   "cell_type": "code",
   "execution_count": 0,
   "metadata": {
    "application/vnd.databricks.v1+cell": {
     "inputWidgets": {},
     "nuid": "6d145161-2079-49d9-be8b-275e231854d0",
     "showTitle": false,
     "title": ""
    },
    "deletable": false,
    "editable": false,
    "nbgrader": {
     "cell_type": "code",
     "checksum": "48968bcb54f2e2fde4cf4371d8d68292",
     "grade": true,
     "grade_id": "cell-e460ec12b208f800",
     "locked": true,
     "points": 0,
     "schema_version": 3,
     "solution": false,
     "task": false
    }
   },
   "outputs": [
    {
     "data": {
      "text/html": [
       "<style scoped>\n",
       "  .ansiout {\n",
       "    display: block;\n",
       "    unicode-bidi: embed;\n",
       "    white-space: pre-wrap;\n",
       "    word-wrap: break-word;\n",
       "    word-break: break-all;\n",
       "    font-family: \"Source Code Pro\", \"Menlo\", monospace;;\n",
       "    font-size: 13px;\n",
       "    color: #555;\n",
       "    margin-left: 4px;\n",
       "    line-height: 19px;\n",
       "  }\n",
       "</style>\n",
       "<div class=\"ansiout\">[Row(len=1, count=12978), Row(len=2, count=80003), Row(len=3, count=98414), Row(len=4, count=80717), Row(len=5, count=45809), Row(len=6, count=33672), Row(len=7, count=30995), Row(len=8, count=19570), Row(len=9, count=12350), Row(len=10, count=7929), Row(len=11, count=3849), Row(len=12, count=2043), Row(len=13, count=963), Row(len=14, count=539), Row(len=15, count=251), Row(len=16, count=110)]\n",
       "1 test passed.\n",
       "</div>"
      ]
     },
     "metadata": {
      "application/vnd.databricks.v1+output": {
       "addedWidgets": {},
       "arguments": {},
       "data": "<div class=\"ansiout\">[Row(len=1, count=12978), Row(len=2, count=80003), Row(len=3, count=98414), Row(len=4, count=80717), Row(len=5, count=45809), Row(len=6, count=33672), Row(len=7, count=30995), Row(len=8, count=19570), Row(len=9, count=12350), Row(len=10, count=7929), Row(len=11, count=3849), Row(len=12, count=2043), Row(len=13, count=963), Row(len=14, count=539), Row(len=15, count=251), Row(len=16, count=110)]\n1 test passed.\n</div>",
       "datasetInfos": [],
       "metadata": {},
       "removedWidgets": [],
       "type": "html"
      }
     },
     "output_type": "display_data"
    }
   ],
   "source": [
    "length_quixote = histogram_length(\"/mnt/nogroup/data/quixote.txt\")\n",
    "print(length_quixote)\n",
    "test(length_quixote, [(1, 12978), (2, 80003), (3, 98414), (4, 80717), (5, 45809), \n",
    "                                   (6, 33672), (7, 30995), (8, 19570), (9, 12350), (10, 7929),\n",
    "                                   (11, 3849), (12, 2043), (13, 963), (14, 539), (15, 251), (16, 110)],\"Try again!\")"
   ]
  },
  {
   "cell_type": "markdown",
   "metadata": {
    "application/vnd.databricks.v1+cell": {
     "inputWidgets": {},
     "nuid": "14278f4d-45d3-49e7-9a4a-5189dac7768d",
     "showTitle": false,
     "title": ""
    },
    "deletable": false,
    "editable": false,
    "nbgrader": {
     "cell_type": "markdown",
     "checksum": "93c0dc5f92724d7291a7b99be64e2e59",
     "grade": false,
     "grade_id": "cell-4246a9f0a617488f",
     "locked": true,
     "schema_version": 3,
     "solution": false,
     "task": false
    }
   },
   "source": [
    "## Exercise 3. Average length of the words in a document\n",
    "\n",
    "You are now asked to implement an `average_length(file_path)` function in Spark that provides the average length of the words in a document or documents. All the processing must be done with  using **DataFrames**., and the last instruction must be the only one returning a result to the driver. \n",
    "\n",
    "**Input**: The path to a text file\n",
    "\n",
    "**Output**: Average length of the words\n",
    "\n",
    "**Note: Again, we are going to assume that the maximum word length is 16 characters, so anything above that shouldn't be used to compute the average**\n",
    "\n",
    "**Hint**: You might be able to use some built-in functions from Spark!\n",
    "\n",
    "                                                                                                       [30 marks]"
   ]
  },
  {
   "cell_type": "code",
   "execution_count": 0,
   "metadata": {
    "application/vnd.databricks.v1+cell": {
     "inputWidgets": {},
     "nuid": "01636d75-6a2e-4b10-9f67-60a64f335380",
     "showTitle": false,
     "title": ""
    },
    "deletable": false,
    "nbgrader": {
     "cell_type": "code",
     "checksum": "42fa941a9167c743ab567552f0327b9a",
     "grade": false,
     "grade_id": "cell-c584893574d599e2",
     "locked": false,
     "schema_version": 3,
     "solution": true
    }
   },
   "outputs": [
    {
     "data": {
      "text/html": [
       "<style scoped>\n",
       "  .ansiout {\n",
       "    display: block;\n",
       "    unicode-bidi: embed;\n",
       "    white-space: pre-wrap;\n",
       "    word-wrap: break-word;\n",
       "    word-break: break-all;\n",
       "    font-family: \"Source Code Pro\", \"Menlo\", monospace;;\n",
       "    font-size: 13px;\n",
       "    color: #555;\n",
       "    margin-left: 4px;\n",
       "    line-height: 19px;\n",
       "  }\n",
       "</style>\n",
       "<div class=\"ansiout\">Out[209]: 4.366843177000037</div>"
      ]
     },
     "metadata": {
      "application/vnd.databricks.v1+output": {
       "addedWidgets": {},
       "arguments": {},
       "data": "<div class=\"ansiout\">Out[209]: 4.366843177000037</div>",
       "datasetInfos": [],
       "metadata": {},
       "removedWidgets": [],
       "type": "html"
      }
     },
     "output_type": "display_data"
    }
   ],
   "source": [
    "def average_length(file_path):\n",
    "  df_text = spark.read.text(file_path)\n",
    "  df_words = df_text.select( \\\n",
    "        F.explode(F.split(\"value\", \" \")) \\\n",
    "        .alias(\"word\")) \\\n",
    "        .filter(\"word != '' and length(word) <= 16\")\n",
    "  output = df_words.select(F.mean(F.length(\"word\")).alias(\"avg\")).collect()\n",
    "#   df_length = df_length.select(df_length['length(word)'].alias(\"length\"))\n",
    "#   output = df_length.agg(F.mean(df_length[\"length\"])).collect()\n",
    "  \n",
    "  return output[0][0]\n",
    "    # <FILL-IN WITH YOUR CODE>\n",
    "  \n",
    "average_length(\"/mnt/nogroup/data/quixote.txt\")"
   ]
  },
  {
   "cell_type": "markdown",
   "metadata": {
    "application/vnd.databricks.v1+cell": {
     "inputWidgets": {},
     "nuid": "84068493-1405-4891-91a0-8a66efbfc951",
     "showTitle": false,
     "title": ""
    },
    "deletable": false,
    "editable": false,
    "nbgrader": {
     "cell_type": "markdown",
     "checksum": "2274135a27bb41ba871722281a093978",
     "grade": false,
     "grade_id": "cell-d5d1b9609cbb789b",
     "locked": true,
     "schema_version": 3,
     "solution": false,
     "task": false
    }
   },
   "source": [
    "The program should pass the following test:"
   ]
  },
  {
   "cell_type": "code",
   "execution_count": 0,
   "metadata": {
    "application/vnd.databricks.v1+cell": {
     "inputWidgets": {},
     "nuid": "a838affa-8775-4b61-9943-329d52392472",
     "showTitle": false,
     "title": ""
    },
    "deletable": false,
    "editable": false,
    "nbgrader": {
     "cell_type": "code",
     "checksum": "0b36a83b8a46e83c5c34a0467409b584",
     "grade": true,
     "grade_id": "cell-b707812456f2ad27",
     "locked": true,
     "points": 5,
     "schema_version": 3,
     "solution": false
    }
   },
   "outputs": [
    {
     "data": {
      "text/html": [
       "<style scoped>\n",
       "  .ansiout {\n",
       "    display: block;\n",
       "    unicode-bidi: embed;\n",
       "    white-space: pre-wrap;\n",
       "    word-wrap: break-word;\n",
       "    word-break: break-all;\n",
       "    font-family: \"Source Code Pro\", \"Menlo\", monospace;;\n",
       "    font-size: 13px;\n",
       "    color: #555;\n",
       "    margin-left: 4px;\n",
       "    line-height: 19px;\n",
       "  }\n",
       "</style>\n",
       "<div class=\"ansiout\">1 test passed.\n",
       "</div>"
      ]
     },
     "metadata": {
      "application/vnd.databricks.v1+output": {
       "addedWidgets": {},
       "arguments": {},
       "data": "<div class=\"ansiout\">1 test passed.\n</div>",
       "datasetInfos": [],
       "metadata": {},
       "removedWidgets": [],
       "type": "html"
      }
     },
     "output_type": "display_data"
    }
   ],
   "source": [
    "avg = average_length(\"/mnt/nogroup/data/quixote.txt\")\n",
    "test(round(avg,2), 4.37,'Try again!')"
   ]
  },
  {
   "cell_type": "code",
   "execution_count": 0,
   "metadata": {
    "application/vnd.databricks.v1+cell": {
     "inputWidgets": {},
     "nuid": "d73c0d05-750e-42b4-b501-437cb00d223b",
     "showTitle": false,
     "title": ""
    }
   },
   "outputs": [],
   "source": []
  }
 ],
 "metadata": {
  "application/vnd.databricks.v1+notebook": {
   "dashboards": [],
   "language": "python",
   "notebookMetadata": {
    "pythonIndentUnit": 2
   },
   "notebookName": "SparkSQL Lab",
   "notebookOrigID": 2819032020107441,
   "widgets": {}
  },
  "kernelspec": {
   "display_name": "Python 3 (ipykernel)",
   "language": "python",
   "name": "python3"
  },
  "language_info": {
   "codemirror_mode": {
    "name": "ipython",
    "version": 3
   },
   "file_extension": ".py",
   "mimetype": "text/x-python",
   "name": "python",
   "nbconvert_exporter": "python",
   "pygments_lexer": "ipython3",
   "version": "3.9.7"
  }
 },
 "nbformat": 4,
 "nbformat_minor": 1
}
